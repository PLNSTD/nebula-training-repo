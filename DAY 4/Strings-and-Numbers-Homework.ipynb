{
 "cells": [
  {
   "cell_type": "markdown",
   "metadata": {},
   "source": [
    "# Combined Homework Assignment: Strings and Numbers in Python\n",
    "\n",
    "This assignment integrates the concepts of string manipulation and numerical operations in Python, offering a comprehensive understanding of these fundamental topics.\n",
    "\n",
    "## Part 1: Strings\n"
   ]
  },
  {
   "cell_type": "markdown",
   "metadata": {},
   "source": [
    "### Task 1.1: Format a Personal Introduction\n",
    "\n",
    "- **Objective:** Create a Python script that uses f-string formatting.\n",
    "- **Requirements:**\n",
    "  - Define two variables: `name` (string) and `age` (integer/float).\n",
    "  - Format and print a message like: `\"My name is [name] and I am [age] years old.\"`\n"
   ]
  },
  {
   "cell_type": "code",
   "execution_count": 1,
   "metadata": {},
   "outputs": [
    {
     "name": "stdout",
     "output_type": "stream",
     "text": [
      "My name is Plidher and I am 27 years old.\n"
     ]
    }
   ],
   "source": [
    "# Task 1.1\n",
    "name = 'Plidher'\n",
    "age = 26\n",
    "\n",
    "print(f\"My name is {name} and I am {age} years old.\")"
   ]
  },
  {
   "cell_type": "markdown",
   "metadata": {},
   "source": [
    "### Task 1.2: Build a Simple Text Processor\n",
    "\n",
    "- **Objective:** Develop a program to process text input.\n",
    "- **Requirements:**\n",
    "  - Prompt for a sentence input.\n",
    "  - Count and print the number of words.\n",
    "  - Replace a specified word and print the new sentence.\n"
   ]
  },
  {
   "cell_type": "code",
   "execution_count": 12,
   "metadata": {},
   "outputs": [
    {
     "name": "stdout",
     "output_type": "stream",
     "text": [
      "Number of words in the phrase 'Hello, World!': 2\n",
      "Modified phrase ('Hello'=>'Hi'): Hi, World!\n"
     ]
    }
   ],
   "source": [
    "# Task 1.2\n",
    "user_phrase = input('Enter a phrase: ')\n",
    "\n",
    "# multiple delimiters and then split\n",
    "words = user_phrase.replace(',',' ').replace('.',' ').replace('!',' ').replace('?',' ').split()\n",
    "\n",
    "# replace every word == 'Hello' => 'Hi'\n",
    "modified_user_phrase = user_phrase.replace('Hello', 'Hi')\n",
    "\n",
    "print(f\"Number of words in the phrase '{user_phrase}': {len(words)}\")\n",
    "print(f\"Modified phrase ('Hello'=>'Hi'): {modified_user_phrase}\")"
   ]
  },
  {
   "cell_type": "markdown",
   "metadata": {},
   "source": [
    "### Task 1.3: Explore Escape Characters\n",
    "\n",
    "- **Objective:** Understand the use of escape characters in strings.\n",
    "- **Requirements:**\n",
    "  - Create a string with quotes, a newline, and a tab space.\n",
    "  - Print the string to demonstrate escape characters.\n"
   ]
  },
  {
   "cell_type": "code",
   "execution_count": 18,
   "metadata": {},
   "outputs": [
    {
     "name": "stdout",
     "output_type": "stream",
     "text": [
      "This\"is\"quotes\"effect\n",
      "------------------------------\n",
      "This\n",
      "is\n",
      "newline\n",
      "effect\n",
      "------------------------------\n",
      "This\tis\ttab-space\teffect\n",
      "------------------------------\n"
     ]
    }
   ],
   "source": [
    "# Task 1.3\n",
    "line_delimiter = '-'*30\n",
    "\n",
    "print(f\"This is quotes effect\\n{line_delimiter}\".replace(' ','\\\"'))\n",
    "print(f\"This is newline effect\\n{line_delimiter}\".replace(' ','\\n'))\n",
    "print(f\"This is tab-space effect\\n{line_delimiter}\".replace(' ','\\t'))"
   ]
  },
  {
   "cell_type": "markdown",
   "metadata": {},
   "source": [
    "## Part 2: Numbers\n"
   ]
  },
  {
   "cell_type": "markdown",
   "metadata": {},
   "source": [
    "### Task 2.1: Calculator Program\n",
    "\n",
    "- **Objective:** Develop a basic calculator.\n",
    "- **Requirements:**\n",
    "  - Input two numbers from the user.\n",
    "  - Choose an operation (add, subtract, multiply, divide).\n",
    "  - Perform and print the result of the operation.\n"
   ]
  },
  {
   "cell_type": "code",
   "execution_count": 64,
   "metadata": {},
   "outputs": [
    {
     "name": "stdout",
     "output_type": "stream",
     "text": [
      "Division by zero is not allowed.\n"
     ]
    }
   ],
   "source": [
    "# Task 2.1\n",
    "n_1 = float(input('Insert first number for the operation: '))\n",
    "n_2 = float(input('Insert second number for the operation: '))\n",
    "operand = int(input('Choose an operation by number (1-add, 2-subtract, 3-multiply, 4-divide): '))\n",
    "\n",
    "if operand == 1:\n",
    "    output = n_1 + n_2\n",
    "elif operand == 2:\n",
    "    output = n_1 - n_2\n",
    "elif operand == 3:\n",
    "    output = n_1 * n_2\n",
    "elif operand == 4:\n",
    "    if n_2 != 0:\n",
    "        output = n_1 / n_2\n",
    "    else:\n",
    "        output = 'Division by zero is not allowed.'\n",
    "else:\n",
    "    output = \"Invalid operation selected. Try again...\"\n",
    "\n",
    "print(output)"
   ]
  },
  {
   "cell_type": "markdown",
   "metadata": {},
   "source": [
    "### Task 2.2: Explore the Random Module\n",
    "\n",
    "- **Objective:** Utilize the `random` module.\n",
    "- **Requirements:**\n",
    "  - Generate and print 5 random integers between 1 and 100.\n"
   ]
  },
  {
   "cell_type": "code",
   "execution_count": 31,
   "metadata": {},
   "outputs": [
    {
     "name": "stdout",
     "output_type": "stream",
     "text": [
      "Number 1: 80\n",
      "Number 2: 86\n",
      "Number 3: 66\n",
      "Number 4: 6\n",
      "Number 5: 21\n"
     ]
    }
   ],
   "source": [
    "# Task 2.2\n",
    "import random\n",
    "\n",
    "n_1 = random.randint(1, 100)\n",
    "n_2 = random.randint(1, 100)\n",
    "n_3 = random.randint(1, 100)\n",
    "n_4 = random.randint(1, 100)\n",
    "n_5 = random.randint(1, 100)\n",
    "\n",
    "print(f\"Number 1: {n_1}\")\n",
    "print(f\"Number 2: {n_2}\")\n",
    "print(f\"Number 3: {n_3}\")\n",
    "print(f\"Number 4: {n_4}\")\n",
    "print(f\"Number 5: {n_5}\")"
   ]
  },
  {
   "cell_type": "markdown",
   "metadata": {},
   "source": [
    "### Task 2.3: Infinite and NaN (Not a Number) Concepts\n",
    "\n",
    "- **Objective:** Demonstrate the use of infinity and NaN in Python.\n",
    "- **Requirements:**\n",
    "  - Show how to create and use infinite and NaN values.\n",
    "  - Test and identify if a variable contains these values.\n"
   ]
  },
  {
   "cell_type": "code",
   "execution_count": 67,
   "metadata": {},
   "outputs": [
    {
     "name": "stdout",
     "output_type": "stream",
     "text": [
      "False\n",
      "True\n",
      "t\n"
     ]
    }
   ],
   "source": [
    "# Task 2.3\n",
    "import math\n",
    "\n",
    "x = float('nan') # Not_A_Number\n",
    "\n",
    "print(50 > math.inf)\n",
    "print(math.isnan(x))"
   ]
  },
  {
   "cell_type": "markdown",
   "metadata": {},
   "source": [
    "## Additional Challenges\n",
    "\n",
    "For a more comprehensive understanding, try the following:\n"
   ]
  },
  {
   "cell_type": "markdown",
   "metadata": {},
   "source": [
    "- **Challenge 1 (Strings):** Write a program that reverses the user's input sentence and prints it.\n"
   ]
  },
  {
   "cell_type": "code",
   "execution_count": 43,
   "metadata": {},
   "outputs": [
    {
     "name": "stdout",
     "output_type": "stream",
     "text": [
      "!dlroW ,olleH\n"
     ]
    }
   ],
   "source": [
    "# Challenge 1\n",
    "user_string_input = input('Insert a phrase: ')\n",
    "\n",
    "print(user_string_input[::-1])"
   ]
  },
  {
   "cell_type": "markdown",
   "metadata": {},
   "source": [
    "- **Challenge 2 (Numbers):** Create a script that calculates and prints the factorial of a number provided by the user.\n"
   ]
  },
  {
   "cell_type": "code",
   "execution_count": 45,
   "metadata": {},
   "outputs": [
    {
     "name": "stdout",
     "output_type": "stream",
     "text": [
      "6\n"
     ]
    }
   ],
   "source": [
    "# Challenge 2\n",
    "import math\n",
    "\n",
    "user_number_input = input('Insert a number to factor: ')\n",
    "\n",
    "print(math.factorial(int(user_number_input)))"
   ]
  }
 ],
 "metadata": {
  "kernelspec": {
   "display_name": "Python 3",
   "language": "python",
   "name": "python3"
  },
  "language_info": {
   "codemirror_mode": {
    "name": "ipython",
    "version": 3
   },
   "file_extension": ".py",
   "mimetype": "text/x-python",
   "name": "python",
   "nbconvert_exporter": "python",
   "pygments_lexer": "ipython3",
   "version": "3.12.6"
  }
 },
 "nbformat": 4,
 "nbformat_minor": 2
}
