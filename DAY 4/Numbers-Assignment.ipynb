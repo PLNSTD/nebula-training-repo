{
 "cells": [
  {
   "cell_type": "markdown",
   "metadata": {},
   "source": [
    "# Numbers in Python Assignment\n",
    "\n",
    "## Exercise 1: Basic Arithmetic Operations\n",
    "\n",
    "Understanding and applying basic arithmetic operations is a cornerstone of programming. These operations are essential for various calculations and data manipulations.\n"
   ]
  },
  {
   "cell_type": "markdown",
   "metadata": {},
   "source": [
    "- **Task 1.1:** Add two integers, `15` and `30`, and print the result. This will familiarize you with addition in Python.\n"
   ]
  },
  {
   "cell_type": "code",
   "execution_count": 1,
   "metadata": {},
   "outputs": [
    {
     "name": "stdout",
     "output_type": "stream",
     "text": [
      "The result of the addition is 45\n"
     ]
    }
   ],
   "source": [
    "# Task 1.1\n",
    "sum_output = 15 + 30\n",
    "print(f\"The result of the addition is {sum_output}\")"
   ]
  },
  {
   "cell_type": "markdown",
   "metadata": {},
   "source": [
    "- **Task 1.2:** Subtract the float `25.5` from `50.0` and display the result, practicing subtraction with floats.\n"
   ]
  },
  {
   "cell_type": "code",
   "execution_count": 2,
   "metadata": {},
   "outputs": [
    {
     "name": "stdout",
     "output_type": "stream",
     "text": [
      "The subtraction result is: 24.5\n"
     ]
    }
   ],
   "source": [
    "# Task 1.2\n",
    "subtraction_output = 50.0 - 25.5\n",
    "print(f\"The subtraction result is: {subtraction_output}\")"
   ]
  },
  {
   "cell_type": "markdown",
   "metadata": {},
   "source": [
    "- **Task 1.3:** Multiply `7` by `3` and print the outcome to understand multiplication.\n"
   ]
  },
  {
   "cell_type": "code",
   "execution_count": 3,
   "metadata": {},
   "outputs": [
    {
     "name": "stdout",
     "output_type": "stream",
     "text": [
      "Multiplication output: 21\n"
     ]
    }
   ],
   "source": [
    "# Task 1.3\n",
    "mult_output = 7 * 3\n",
    "print(f\"Multiplication output: {mult_output}\")"
   ]
  },
  {
   "cell_type": "markdown",
   "metadata": {},
   "source": [
    "- **Task 1.4:** Divide `100` by `4` and print the quotient to learn division in Python.\n"
   ]
  },
  {
   "cell_type": "code",
   "execution_count": 4,
   "metadata": {},
   "outputs": [
    {
     "name": "stdout",
     "output_type": "stream",
     "text": [
      "Division output: 25.0\n"
     ]
    }
   ],
   "source": [
    "# Task 1.4\n",
    "div_output = 100 / 4\n",
    "print(f\"Division output: {div_output}\")"
   ]
  },
  {
   "cell_type": "markdown",
   "metadata": {},
   "source": [
    "## Exercise 2: Using Built-In Functions\n",
    "\n",
    "Python's built-in functions simplify complex mathematical operations and enhance programming efficiency.\n"
   ]
  },
  {
   "cell_type": "markdown",
   "metadata": {},
   "source": [
    "- **Task 2.1:** Use the `abs()` function to find the absolute value of `-20` and print the result.\n"
   ]
  },
  {
   "cell_type": "code",
   "execution_count": 5,
   "metadata": {},
   "outputs": [
    {
     "name": "stdout",
     "output_type": "stream",
     "text": [
      "Abs value of |-20| is 20\n"
     ]
    }
   ],
   "source": [
    "# Task 2.1\n",
    "print(f\"Abs value of {-20} is {abs(-20)}\")"
   ]
  },
  {
   "cell_type": "markdown",
   "metadata": {},
   "source": [
    "- **Task 2.2:** Round the float `3.14159` to two decimal places using the `round()` function and display the rounded value.\n"
   ]
  },
  {
   "cell_type": "code",
   "execution_count": 6,
   "metadata": {},
   "outputs": [
    {
     "name": "stdout",
     "output_type": "stream",
     "text": [
      "Round of 3.14159 is 3\n"
     ]
    }
   ],
   "source": [
    "# Task 2.2\n",
    "print(f\"Round of {3.14159} is {round(3.14159)}\")"
   ]
  },
  {
   "cell_type": "markdown",
   "metadata": {},
   "source": [
    "- **Task 2.3:** Calculate `2` to the power of `5` using the `pow()` function and print the result.\n"
   ]
  },
  {
   "cell_type": "code",
   "execution_count": 7,
   "metadata": {},
   "outputs": [
    {
     "name": "stdout",
     "output_type": "stream",
     "text": [
      "power of 2^5 is 32\n"
     ]
    }
   ],
   "source": [
    "# Task 2.3\n",
    "print(f\"power of 2^5 is {pow(2,5)}\")"
   ]
  },
  {
   "cell_type": "markdown",
   "metadata": {},
   "source": [
    "## Exercise 3: Experiment with the Math Module\n",
    "\n",
    "The `math` module in Python offers a wide range of mathematical operations and constants.\n"
   ]
  },
  {
   "cell_type": "markdown",
   "metadata": {},
   "source": [
    "- **Task 3.1:** Use `math.sqrt()` to find the square root of `64` and print the result.\n"
   ]
  },
  {
   "cell_type": "code",
   "execution_count": 8,
   "metadata": {},
   "outputs": [
    {
     "name": "stdout",
     "output_type": "stream",
     "text": [
      "Square root of 64 is 8.0\n"
     ]
    }
   ],
   "source": [
    "# Task 3.1\n",
    "import math\n",
    "print(f\"Square root of 64 is {math.sqrt(64)}\")"
   ]
  },
  {
   "cell_type": "markdown",
   "metadata": {},
   "source": [
    "- **Task 3.2:** Print the value of `math.pi` to explore constants in the `math` module.\n"
   ]
  },
  {
   "cell_type": "code",
   "execution_count": 9,
   "metadata": {},
   "outputs": [
    {
     "name": "stdout",
     "output_type": "stream",
     "text": [
      "Pi: 3.141592653589793\n"
     ]
    }
   ],
   "source": [
    "# Task 3.2\n",
    "print(f\"Pi: {math.pi}\")"
   ]
  },
  {
   "cell_type": "markdown",
   "metadata": {},
   "source": [
    "- **Task 3.3:** Calculate and print the result of raising `math.e` (Euler's number) to the power of `3` using `math.exp()`.\n"
   ]
  },
  {
   "cell_type": "code",
   "execution_count": 29,
   "metadata": {},
   "outputs": [
    {
     "name": "stdout",
     "output_type": "stream",
     "text": [
      "Euler's number 2.718281828459045 to the power of 3: 20.085536923187668\n",
      "Euler's number 2.718281828459045 to the power of 3: 20.085536923187664\n"
     ]
    }
   ],
   "source": [
    "# Task 3.3\n",
    "# Rasing e^3\n",
    "print(f\"Euler's number {math.e} to the power of 3: {math.exp(3)}\")\n",
    "\n",
    "# OR without using math.exp\n",
    "\n",
    "print(f\"Euler's number {math.e} to the power of 3: {pow(math.e, 3)}\")"
   ]
  },
  {
   "cell_type": "markdown",
   "metadata": {},
   "source": [
    "## Additional Challenges\n",
    "\n",
    "To deepen your understanding, attempt these additional tasks:\n"
   ]
  },
  {
   "cell_type": "markdown",
   "metadata": {},
   "source": [
    "- **Challenge 1:** Create a Python script that calculates the area of a circle with a radius of `7` using `math.pi`. Print the area with a descriptive message.\n"
   ]
  },
  {
   "cell_type": "code",
   "execution_count": 20,
   "metadata": {},
   "outputs": [
    {
     "name": "stdout",
     "output_type": "stream",
     "text": [
      "Circle Area of radius 7: 153.93804002589985\n"
     ]
    }
   ],
   "source": [
    "# Challenge 1\n",
    "# Area of a circle using the radius: pi*r^2\n",
    "circle_area = math.pi*(pow(7,2))\n",
    "\n",
    "print(f\"Circle Area of radius {7}: {circle_area}\")"
   ]
  },
  {
   "cell_type": "markdown",
   "metadata": {},
   "source": [
    "- **Challenge 2:** Use the `random` module to generate and print a random integer between `1` and `100`.\n"
   ]
  },
  {
   "cell_type": "code",
   "execution_count": 31,
   "metadata": {},
   "outputs": [
    {
     "name": "stdout",
     "output_type": "stream",
     "text": [
      "Random number between 1 and 100: 28\n"
     ]
    }
   ],
   "source": [
    "# Challenge 2\n",
    "import random\n",
    "random_int = random.randint(1, 100)\n",
    "\n",
    "print(f\"Random number between 1 and 100: {random_int}\")"
   ]
  }
 ],
 "metadata": {
  "kernelspec": {
   "display_name": "Python 3",
   "language": "python",
   "name": "python3"
  },
  "language_info": {
   "codemirror_mode": {
    "name": "ipython",
    "version": 3
   },
   "file_extension": ".py",
   "mimetype": "text/x-python",
   "name": "python",
   "nbconvert_exporter": "python",
   "pygments_lexer": "ipython3",
   "version": "3.12.6"
  }
 },
 "nbformat": 4,
 "nbformat_minor": 2
}
