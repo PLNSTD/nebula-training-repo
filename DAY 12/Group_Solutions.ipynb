{
 "cells": [
  {
   "cell_type": "markdown",
   "metadata": {},
   "source": [
    "## 1. 🧮 Calculate Total Age in Group\n",
    "\n",
    "Given the following list of people, use `reduce` to calculate the total age of the group.\n",
    "\n",
    "```python\n",
    "people = [\n",
    "    {\"name\": \"Alice\", \"age\": 30},\n",
    "    {\"name\": \"Bob\", \"age\": 25},\n",
    "    {\"name\": \"Charlie\", \"age\": 35},\n",
    "    {\"name\": \"Diana\", \"age\": 40}\n",
    "]\n",
    "```"
   ]
  },
  {
   "cell_type": "code",
   "execution_count": null,
   "metadata": {},
   "outputs": [
    {
     "name": "stdout",
     "output_type": "stream",
     "text": [
      "130\n"
     ]
    }
   ],
   "source": [
    "from functools import reduce\n",
    "people = [\n",
    "    {\"name\": \"Alice\", \"age\": 30},\n",
    "    {\"name\": \"Bob\", \"age\": 25},\n",
    "    {\"name\": \"Charlie\", \"age\": 35},\n",
    "    {\"name\": \"Diana\", \"age\": 40}\n",
    "]\n",
    "total_age = reduce(lambda x, y: x + y['age'], people, 0)\n",
    "print(total_age)"
   ]
  },
  {
   "cell_type": "markdown",
   "metadata": {},
   "source": [
    "## 2. 🔍 Find the Oldest Person\n",
    "\n",
    "Using the same `people` list from above, use `reduce` to find the person with the highest age."
   ]
  },
  {
   "cell_type": "code",
   "execution_count": 6,
   "metadata": {},
   "outputs": [
    {
     "name": "stdout",
     "output_type": "stream",
     "text": [
      "40\n"
     ]
    }
   ],
   "source": [
    "from functools import reduce\n",
    "\n",
    "people = [\n",
    "    {\"name\": \"Alice\", \"age\": 30},\n",
    "    {\"name\": \"Bob\", \"age\": 25},\n",
    "    {\"name\": \"Charlie\", \"age\": 35},\n",
    "    {\"name\": \"Diana\", \"age\": 40}\n",
    "]\n",
    "\n",
    "oldest = reduce(lambda a, b: a if a['age'] > b['age'] else b, people)\n",
    "print(oldest['age'])"
   ]
  },
  {
   "cell_type": "markdown",
   "metadata": {},
   "source": [
    "## 3. 🔠 Extract Unique Job Titles\n",
    "\n",
    "Given the following list of employees, use `map` and `filter` to extract a list of unique job titles.\n",
    "\n",
    "```python\n",
    "employees = [\n",
    "    {\"name\": \"Alice\", \"job_title\": \"Engineer\"},\n",
    "    {\"name\": \"Bob\", \"job_title\": \"Designer\"},\n",
    "    {\"name\": \"Charlie\", \"job_title\": \"Engineer\"},\n",
    "    {\"name\": \"Diana\", \"job_title\": \"Manager\"},\n",
    "    {\"name\": \"Eve\", \"job_title\": \"Designer\"}\n",
    "]\n",
    "```"
   ]
  },
  {
   "cell_type": "code",
   "execution_count": 18,
   "metadata": {},
   "outputs": [
    {
     "name": "stdout",
     "output_type": "stream",
     "text": [
      "['Engineer', 'Designer', 'Engineer', 'Manager', 'Designer']\n",
      "['Engineer', 'Designer', 'Manager']\n"
     ]
    }
   ],
   "source": [
    "employees = [\n",
    "    {\"name\": \"Alice\", \"job_title\": \"Engineer\"},\n",
    "    {\"name\": \"Bob\", \"job_title\": \"Designer\"},\n",
    "    {\"name\": \"Charlie\", \"job_title\": \"Engineer\"},\n",
    "    {\"name\": \"Diana\", \"job_title\": \"Manager\"},\n",
    "    {\"name\": \"Eve\", \"job_title\": \"Designer\"}\n",
    "]\n",
    "\n",
    "jobs = list(map(lambda x: x['job_title'], employees))\n",
    "print(jobs)\n",
    "\n",
    "unique_jobs = []\n",
    "\n",
    "def add_unique_job(x):\n",
    "    if x not in unique_jobs:\n",
    "        unique_jobs.append(x)\n",
    "        return True\n",
    "    return False\n",
    "\n",
    "unique_jobs = list(filter(add_unique_job, jobs))\n",
    "print(unique_jobs)"
   ]
  },
  {
   "cell_type": "markdown",
   "metadata": {},
   "source": [
    "## 4. 🗂️ Filter and Group by Age Range\n",
    "\n",
    "Using the `people` list, filter out those under 18, then group the remaining people by age range: 18-25, 26-35, 36-45."
   ]
  },
  {
   "cell_type": "code",
   "execution_count": 7,
   "metadata": {},
   "outputs": [
    {
     "name": "stdout",
     "output_type": "stream",
     "text": [
      "[[{'name': 'Bob', 'age': 25}], [{'name': 'Alice', 'age': 30}, {'name': 'Charlie', 'age': 35}], [{'name': 'Diana', 'age': 40}]]\n"
     ]
    }
   ],
   "source": [
    "people = [\n",
    "    {\"name\": \"Alice\", \"age\": 30},\n",
    "    {\"name\": \"Bob\", \"age\": 25},\n",
    "    {\"name\": \"Charlie\", \"age\": 35},\n",
    "    {\"name\": \"Diana\", \"age\": 40}\n",
    "]\n",
    "\n",
    "adults = list(filter(lambda x: x['age'] >= 18, people))\n",
    "range_18_25 = list(filter(lambda x: x['age'] <= 25, adults))\n",
    "range_26_35 = list(filter(lambda x: 26 <= x['age'] <= 35, adults))\n",
    "range_36_45 = list(filter(lambda x: 36 <= x['age'] <= 45, adults))\n",
    "print([range_18_25, range_26_35, range_36_45])"
   ]
  },
  {
   "cell_type": "markdown",
   "metadata": {},
   "source": [
    "## 5. 🧩 Merge and Count Job Titles\n",
    "\n",
    "With the `employees` list, use `reduce` to create an object that counts how many people have each job title."
   ]
  },
  {
   "cell_type": "code",
   "execution_count": null,
   "metadata": {},
   "outputs": [
    {
     "name": "stdout",
     "output_type": "stream",
     "text": [
      "Actual jobs: ['Engineer', 'Designer', 'Engineer', 'Manager', 'Designer']\n",
      "Unique job_titles: ['Engineer', 'Designer', 'Manager']\n",
      "{'Engineer': 2, 'Designer': 2, 'Manager': 1}\n"
     ]
    }
   ],
   "source": [
    "employees = [\n",
    "    {\"name\": \"Alice\", \"job_title\": \"Engineer\"},\n",
    "    {\"name\": \"Bob\", \"job_title\": \"Designer\"},\n",
    "    {\"name\": \"Charlie\", \"job_title\": \"Engineer\"},\n",
    "    {\"name\": \"Diana\", \"job_title\": \"Manager\"},\n",
    "    {\"name\": \"Eve\", \"job_title\": \"Designer\"}\n",
    "]\n",
    "print('Actual jobs: ' + str(jobs))\n",
    "print('Unique job_titles: ' + str(unique_jobs))\n",
    "\n",
    "unique_jobs_counter = reduce(lambda obj, employee: obj.update({employee['job_title']: obj.get(employee['job_title'], 0) + 1}) or obj, employees, {})\n",
    "print(unique_jobs_counter)"
   ]
  },
  {
   "cell_type": "markdown",
   "metadata": {},
   "source": [
    "## 6. 📊 Calculate Average Salary\n",
    "\n",
    "Using the following list of employees with salaries, use `reduce` to calculate the average salary. Exclude any employees with a salary below 50,000.\n",
    "\n",
    "```python\n",
    "salaries = [\n",
    "    {\"name\": \"Alice\", \"salary\": 60000},\n",
    "    {\"name\": \"Bob\", \"salary\": 45000},\n",
    "    {\"name\": \"Charlie\", \"salary\": 70000},\n",
    "    {\"name\": \"Diana\", \"salary\": 52000},\n",
    "    {\"name\": \"Eve\", \"salary\": 48000}\n",
    "]\n",
    "```"
   ]
  },
  {
   "cell_type": "code",
   "execution_count": 36,
   "metadata": {},
   "outputs": [
    {
     "name": "stdout",
     "output_type": "stream",
     "text": [
      "[{'name': 'Alice', 'salary': 60000}, {'name': 'Charlie', 'salary': 70000}, {'name': 'Diana', 'salary': 52000}]\n",
      "60666.666666666664\n"
     ]
    }
   ],
   "source": [
    "salaries = [\n",
    "    {\"name\": \"Alice\", \"salary\": 60000},\n",
    "    {\"name\": \"Bob\", \"salary\": 45000},\n",
    "    {\"name\": \"Charlie\", \"salary\": 70000},\n",
    "    {\"name\": \"Diana\", \"salary\": 52000},\n",
    "    {\"name\": \"Eve\", \"salary\": 48000}\n",
    "]\n",
    "\n",
    "high_salary = list(filter(lambda person: person['salary'] >= 50000, salaries))\n",
    "print(high_salary)\n",
    "\n",
    "tot_salaries = reduce(lambda x, y: x.update({'total_salary': x.get('total_salary', 0) + y['salary'], 'counter': x.get('counter', 0) + 1}) or x, high_salary, {})\n",
    "avg_salary = tot_salaries['total_salary'] / tot_salaries['counter']\n",
    "print(avg_salary)\n"
   ]
  },
  {
   "cell_type": "markdown",
   "metadata": {},
   "source": [
    "## 7. 🌱 Filter Active Accounts\n",
    "\n",
    "Given the following list of user accounts, use `filter` to return only active accounts.\n",
    "\n",
    "```python\n",
    "accounts = [\n",
    "    {\"name\": \"Alice\", \"isActive\": True},\n",
    "    {\"name\": \"Bob\", \"isActive\": False},\n",
    "    {\"name\": \"Charlie\", \"isActive\": True},\n",
    "    {\"name\": \"Diana\", \"isActive\": False}\n",
    "]\n",
    "```"
   ]
  },
  {
   "cell_type": "code",
   "execution_count": 1,
   "metadata": {},
   "outputs": [
    {
     "name": "stdout",
     "output_type": "stream",
     "text": [
      "[{'name': 'Alice', 'isActive': True}, {'name': 'Charlie', 'isActive': True}]\n"
     ]
    }
   ],
   "source": [
    "accounts = [\n",
    "    {\"name\": \"Alice\", \"isActive\": True},\n",
    "    {\"name\": \"Bob\", \"isActive\": False},\n",
    "    {\"name\": \"Charlie\", \"isActive\": True},\n",
    "    {\"name\": \"Diana\", \"isActive\": False}\n",
    "]\n",
    "\n",
    "active_accounts = list(filter(lambda account: account['isActive'], accounts))\n",
    "print(active_accounts)"
   ]
  },
  {
   "cell_type": "markdown",
   "metadata": {},
   "source": [
    "## 8. 🕹️ Generate Usernames\n",
    "\n",
    "Write a function using `map` to generate usernames from the following list of names in the format `first letter of first name + last name`, all lowercase.\n",
    "\n",
    "```python\n",
    "names = [\n",
    "    {\"first_name\": \"Alice\", \"last_name\": \"Johnson\"},\n",
    "    {\"first_name\": \"Bob\", \"last_name\": \"Smith\"},\n",
    "    {\"first_name\": \"Charlie\", \"last_name\": \"Brown\"},\n",
    "    {\"first_name\": \"Diana\", \"last_name\": \"Williams\"}\n",
    "]\n",
    "```"
   ]
  },
  {
   "cell_type": "code",
   "execution_count": 3,
   "metadata": {},
   "outputs": [
    {
     "name": "stdout",
     "output_type": "stream",
     "text": [
      "['ajohnson', 'bsmith', 'cbrown', 'dwilliams']\n"
     ]
    }
   ],
   "source": [
    "names = [\n",
    "    {\"first_name\": \"Alice\", \"last_name\": \"Johnson\"},\n",
    "    {\"first_name\": \"Bob\", \"last_name\": \"Smith\"},\n",
    "    {\"first_name\": \"Charlie\", \"last_name\": \"Brown\"},\n",
    "    {\"first_name\": \"Diana\", \"last_name\": \"Williams\"}\n",
    "]\n",
    "\n",
    "usernames = list(map(lambda person: person['first_name'][0].lower() + person['last_name'].lower(), names))\n",
    "print(usernames)"
   ]
  },
  {
   "cell_type": "markdown",
   "metadata": {},
   "source": [
    "## 9. 📅 Find Longest Employment Duration\n",
    "\n",
    "Given the following list of employees with `hire_date` and `termination_date`, use `reduce` to find the employee with the longest duration of employment.\n",
    "\n",
    "```python\n",
    "employment = [\n",
    "    {\"name\": \"Alice\", \"hire_date\": \"2015-06-01\", \"termination_date\": \"2020-06-01\"},\n",
    "    {\"name\": \"Bob\", \"hire_date\": \"2012-01-01\", \"termination_date\": \"2018-01-01\"},\n",
    "    {\"name\": \"Charlie\", \"hire_date\": \"2017-09-01\", \"termination_date\": \"2022-09-01\"},\n",
    "    {\"name\": \"Diana\", \"hire_date\": \"2013-05-01\", \"termination_date\": \"2019-05-01\"}\n",
    "]\n",
    "```"
   ]
  }
 ],
 "metadata": {
  "kernelspec": {
   "display_name": "Python 3",
   "language": "python",
   "name": "python3"
  },
  "language_info": {
   "codemirror_mode": {
    "name": "ipython",
    "version": 3
   },
   "file_extension": ".py",
   "mimetype": "text/x-python",
   "name": "python",
   "nbconvert_exporter": "python",
   "pygments_lexer": "ipython3",
   "version": "3.12.6"
  }
 },
 "nbformat": 4,
 "nbformat_minor": 2
}
