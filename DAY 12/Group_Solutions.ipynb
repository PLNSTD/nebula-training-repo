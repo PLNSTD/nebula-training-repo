{
 "cells": [
  {
   "cell_type": "markdown",
   "metadata": {},
   "source": [
    "## 1. 🧮 Calculate Total Age in Group\n",
    "\n",
    "Given the following list of people, use `reduce` to calculate the total age of the group.\n",
    "\n",
    "```python\n",
    "people = [\n",
    "    {\"name\": \"Alice\", \"age\": 30},\n",
    "    {\"name\": \"Bob\", \"age\": 25},\n",
    "    {\"name\": \"Charlie\", \"age\": 35},\n",
    "    {\"name\": \"Diana\", \"age\": 40}\n",
    "]\n",
    "```"
   ]
  },
  {
   "cell_type": "code",
   "execution_count": 8,
   "metadata": {},
   "outputs": [
    {
     "name": "stdout",
     "output_type": "stream",
     "text": [
      "130\n"
     ]
    }
   ],
   "source": [
    "from functools import reduce\n",
    "people = [\n",
    "    {\"name\": \"Alice\", \"age\": 30},\n",
    "    {\"name\": \"Bob\", \"age\": 25},\n",
    "    {\"name\": \"Charlie\", \"age\": 35},\n",
    "    {\"name\": \"Diana\", \"age\": 40}\n",
    "]\n",
    "total_age = reduce(lambda x, y: x + y['age'], people, 0)\n",
    "print(total_age)"
   ]
  },
  {
   "cell_type": "markdown",
   "metadata": {},
   "source": [
    "## 2. 🔍 Find the Oldest Person\n",
    "\n",
    "Using the same `people` list from above, use `reduce` to find the person with the highest age."
   ]
  },
  {
   "cell_type": "code",
   "execution_count": 13,
   "metadata": {},
   "outputs": [
    {
     "name": "stdout",
     "output_type": "stream",
     "text": [
      "40\n"
     ]
    }
   ],
   "source": [
    "from functools import reduce\n",
    "\n",
    "people = [\n",
    "    {\"name\": \"Alice\", \"age\": 30},\n",
    "    {\"name\": \"Bob\", \"age\": 25},\n",
    "    {\"name\": \"Charlie\", \"age\": 35},\n",
    "    {\"name\": \"Diana\", \"age\": 40}\n",
    "]\n",
    "\n",
    "max_age = reduce(lambda a, b: a if a > b['age'] else b['age'], people, 0)\n",
    "print(max_age)"
   ]
  },
  {
   "cell_type": "markdown",
   "metadata": {},
   "source": [
    "## 3. 🔠 Extract Unique Job Titles\n",
    "\n",
    "Given the following list of employees, use `map` and `filter` to extract a list of unique job titles.\n",
    "\n",
    "```python\n",
    "employees = [\n",
    "    {\"name\": \"Alice\", \"job_title\": \"Engineer\"},\n",
    "    {\"name\": \"Bob\", \"job_title\": \"Designer\"},\n",
    "    {\"name\": \"Charlie\", \"job_title\": \"Engineer\"},\n",
    "    {\"name\": \"Diana\", \"job_title\": \"Manager\"},\n",
    "    {\"name\": \"Eve\", \"job_title\": \"Designer\"}\n",
    "]\n",
    "```"
   ]
  },
  {
   "cell_type": "code",
   "execution_count": null,
   "metadata": {},
   "outputs": [
    {
     "name": "stdout",
     "output_type": "stream",
     "text": [
      "['Engineer', 'Designer', 'Engineer', 'Manager', 'Designer']\n",
      "['Engineer', 'Designer', 'Manager']\n"
     ]
    }
   ],
   "source": [
    "employees = [\n",
    "    {\"name\": \"Alice\", \"job_title\": \"Engineer\"},\n",
    "    {\"name\": \"Bob\", \"job_title\": \"Designer\"},\n",
    "    {\"name\": \"Charlie\", \"job_title\": \"Engineer\"},\n",
    "    {\"name\": \"Diana\", \"job_title\": \"Manager\"},\n",
    "    {\"name\": \"Eve\", \"job_title\": \"Designer\"}\n",
    "]\n",
    "\n",
    "jobs = list(map(lambda x: x['job_title'], employees))\n",
    "print(jobs)\n",
    "\n",
    "unique_jobs = []\n",
    "\n",
    "def add_unique_job(x):\n",
    "    if x not in unique_jobs:\n",
    "        unique_jobs.append(x)\n",
    "        return True\n",
    "    return False\n",
    "\n",
    "unique_jobs = list(filter(add_unique_job, jobs))\n",
    "print(unique_jobs)"
   ]
  },
  {
   "cell_type": "markdown",
   "metadata": {},
   "source": [
    "## 4. 🗂️ Filter and Group by Age Range\n",
    "\n",
    "Using the `people` list, filter out those under 18, then group the remaining people by age range: 18-25, 26-35, 36-45."
   ]
  },
  {
   "cell_type": "code",
   "execution_count": 39,
   "metadata": {},
   "outputs": [
    {
     "name": "stdout",
     "output_type": "stream",
     "text": [
      "[[{'name': 'Bob', 'age': 25}], [{'name': 'Alice', 'age': 30}, {'name': 'Charlie', 'age': 35}], [{'name': 'Diana', 'age': 40}]]\n"
     ]
    }
   ],
   "source": [
    "people = [\n",
    "    {\"name\": \"Alice\", \"age\": 30},\n",
    "    {\"name\": \"Bob\", \"age\": 25},\n",
    "    {\"name\": \"Charlie\", \"age\": 35},\n",
    "    {\"name\": \"Diana\", \"age\": 40}\n",
    "]\n",
    "\n",
    "adults = list(filter(lambda x: x['age'] >= 18, people))\n",
    "range_18_25 = list(filter(lambda x: x['age'] <= 25, adults))\n",
    "range_26_35 = list(filter(lambda x: 26 <= x['age'] <= 35, adults))\n",
    "range_36_45 = list(filter(lambda x: x['age'] >= 36, adults))\n",
    "print([range_18_25, range_26_35, range_36_45])"
   ]
  },
  {
   "cell_type": "markdown",
   "metadata": {},
   "source": [
    "## 5. 🧩 Merge and Count Job Titles\n",
    "\n",
    "With the `employees` list, use `reduce` to create an object that counts how many people have each job title."
   ]
  },
  {
   "cell_type": "code",
   "execution_count": 40,
   "metadata": {},
   "outputs": [
    {
     "ename": "TypeError",
     "evalue": "<lambda>() takes 1 positional argument but 2 were given",
     "output_type": "error",
     "traceback": [
      "\u001b[1;31m---------------------------------------------------------------------------\u001b[0m",
      "\u001b[1;31mTypeError\u001b[0m                                 Traceback (most recent call last)",
      "Cell \u001b[1;32mIn[40], line 9\u001b[0m\n\u001b[0;32m      1\u001b[0m employees \u001b[38;5;241m=\u001b[39m [\n\u001b[0;32m      2\u001b[0m     {\u001b[38;5;124m\"\u001b[39m\u001b[38;5;124mname\u001b[39m\u001b[38;5;124m\"\u001b[39m: \u001b[38;5;124m\"\u001b[39m\u001b[38;5;124mAlice\u001b[39m\u001b[38;5;124m\"\u001b[39m, \u001b[38;5;124m\"\u001b[39m\u001b[38;5;124mjob_title\u001b[39m\u001b[38;5;124m\"\u001b[39m: \u001b[38;5;124m\"\u001b[39m\u001b[38;5;124mEngineer\u001b[39m\u001b[38;5;124m\"\u001b[39m},\n\u001b[0;32m      3\u001b[0m     {\u001b[38;5;124m\"\u001b[39m\u001b[38;5;124mname\u001b[39m\u001b[38;5;124m\"\u001b[39m: \u001b[38;5;124m\"\u001b[39m\u001b[38;5;124mBob\u001b[39m\u001b[38;5;124m\"\u001b[39m, \u001b[38;5;124m\"\u001b[39m\u001b[38;5;124mjob_title\u001b[39m\u001b[38;5;124m\"\u001b[39m: \u001b[38;5;124m\"\u001b[39m\u001b[38;5;124mDesigner\u001b[39m\u001b[38;5;124m\"\u001b[39m},\n\u001b[1;32m   (...)\u001b[0m\n\u001b[0;32m      6\u001b[0m     {\u001b[38;5;124m\"\u001b[39m\u001b[38;5;124mname\u001b[39m\u001b[38;5;124m\"\u001b[39m: \u001b[38;5;124m\"\u001b[39m\u001b[38;5;124mEve\u001b[39m\u001b[38;5;124m\"\u001b[39m, \u001b[38;5;124m\"\u001b[39m\u001b[38;5;124mjob_title\u001b[39m\u001b[38;5;124m\"\u001b[39m: \u001b[38;5;124m\"\u001b[39m\u001b[38;5;124mDesigner\u001b[39m\u001b[38;5;124m\"\u001b[39m}\n\u001b[0;32m      7\u001b[0m ]\n\u001b[1;32m----> 9\u001b[0m counter \u001b[38;5;241m=\u001b[39m \u001b[43mreduce\u001b[49m\u001b[43m(\u001b[49m\u001b[38;5;28;43;01mlambda\u001b[39;49;00m\u001b[43m \u001b[49m\u001b[43mx\u001b[49m\u001b[43m:\u001b[49m\u001b[43m \u001b[49m\u001b[43m{\u001b[49m\u001b[43mx\u001b[49m\u001b[43m:\u001b[49m\u001b[43m \u001b[49m\u001b[43mjobs\u001b[49m\u001b[38;5;241;43m.\u001b[39;49m\u001b[43mcount\u001b[49m\u001b[43m(\u001b[49m\u001b[43mx\u001b[49m\u001b[43m)\u001b[49m\u001b[43m}\u001b[49m\u001b[43m,\u001b[49m\u001b[43m \u001b[49m\u001b[43munique_jobs\u001b[49m\u001b[43m)\u001b[49m\n",
      "\u001b[1;31mTypeError\u001b[0m: <lambda>() takes 1 positional argument but 2 were given"
     ]
    }
   ],
   "source": [
    "employees = [\n",
    "    {\"name\": \"Alice\", \"job_title\": \"Engineer\"},\n",
    "    {\"name\": \"Bob\", \"job_title\": \"Designer\"},\n",
    "    {\"name\": \"Charlie\", \"job_title\": \"Engineer\"},\n",
    "    {\"name\": \"Diana\", \"job_title\": \"Manager\"},\n",
    "    {\"name\": \"Eve\", \"job_title\": \"Designer\"}\n",
    "]\n",
    "\n",
    "counter = reduce(lambda x: {x: jobs.count(x)}, unique_jobs)"
   ]
  }
 ],
 "metadata": {
  "kernelspec": {
   "display_name": "Python 3",
   "language": "python",
   "name": "python3"
  },
  "language_info": {
   "codemirror_mode": {
    "name": "ipython",
    "version": 3
   },
   "file_extension": ".py",
   "mimetype": "text/x-python",
   "name": "python",
   "nbconvert_exporter": "python",
   "pygments_lexer": "ipython3",
   "version": "3.12.6"
  }
 },
 "nbformat": 4,
 "nbformat_minor": 2
}
