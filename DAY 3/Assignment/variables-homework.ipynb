{
 "cells": [
  {
   "cell_type": "markdown",
   "metadata": {},
   "source": [
    "# Homework\n",
    "\n",
    "## Write a script that:\n",
    " - Declares a string variable `favorite_food`, an integer variable `quantity`, and a float variable `price`.\n",
    " - Changes `favorite_food` to a different food item.\n",
    " - Prints all variables before and after the change."
   ]
  },
  {
   "cell_type": "code",
   "execution_count": 10,
   "metadata": {},
   "outputs": [
    {
     "name": "stdout",
     "output_type": "stream",
     "text": [
      "rice : <class 'str'>\n",
      "2 : <class 'int'>\n",
      "1.69 : <class 'float'>\n"
     ]
    }
   ],
   "source": [
    "favorite_food = 'rice'\n",
    "quantity = 2\n",
    "price = 1.69\n",
    "\n",
    "# BEFORE CHANGE\n",
    "print(favorite_food,':',type(favorite_food))\n",
    "print(quantity,':', type(quantity))\n",
    "print(price,':', type(price))"
   ]
  },
  {
   "cell_type": "code",
   "execution_count": 11,
   "metadata": {},
   "outputs": [
    {
     "name": "stdout",
     "output_type": "stream",
     "text": [
      "pasta : <class 'str'>\n",
      "2 : <class 'int'>\n",
      "1.69 : <class 'float'>\n"
     ]
    }
   ],
   "source": [
    "favorite_food = 'pasta'\n",
    "\n",
    "# AFTER CHANGE\n",
    "print(favorite_food,':',type(favorite_food))\n",
    "print(quantity,':', type(quantity))\n",
    "print(price,':', type(price))"
   ]
  }
 ],
 "metadata": {
  "kernelspec": {
   "display_name": "Python 3",
   "language": "python",
   "name": "python3"
  },
  "language_info": {
   "codemirror_mode": {
    "name": "ipython",
    "version": 3
   },
   "file_extension": ".py",
   "mimetype": "text/x-python",
   "name": "python",
   "nbconvert_exporter": "python",
   "pygments_lexer": "ipython3",
   "version": "3.12.6"
  }
 },
 "nbformat": 4,
 "nbformat_minor": 2
}
