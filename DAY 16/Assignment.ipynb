{
 "cells": [
  {
   "cell_type": "markdown",
   "metadata": {},
   "source": [
    "1. **Analyzing API Documentation:**\n",
    "\n",
    "   - **Task:** Review the documentation of a public API (e.g., GitHub API, OpenWeatherMap API).\n",
    "   - **Objective:** Identify and list:\n",
    "     - **Endpoints:** Key API endpoints available.\n",
    "     - **HTTP Methods:** The methods used for each endpoint (GET, POST, etc.).\n",
    "     - **Required Parameters:** Any mandatory parameters for requests.\n",
    "     - **Expected Responses:** The format and structure of the data returned."
   ]
  },
  {
   "cell_type": "markdown",
   "metadata": {},
   "source": [
    "### OpenWeatherMap\n",
    "\n",
    "- Endpoint \n",
    "  - Current and forecasts: \n",
    "    - URL: https://api.openweathermap.org/data/3.0/onecall?lat={lat}&lon={lon}&exclude={part}&appid={API key}\n",
    "    - HTTP Method: GET\n",
    "    - Parameters: lat, lon, appid\n",
    "    - Response: JSONFILE(keys: lat, lon, timezone, timezone_offset, current ( another dict: weatherData))"
   ]
  },
  {
   "cell_type": "markdown",
   "metadata": {},
   "source": [
    "2. **Mapping HTTP Methods to CRUD Operations:**\n",
    "\n",
    "   - **Task:** Create a table mapping the CRUD operations to the appropriate HTTP methods.\n",
    "   - **Objective:** Understand how each HTTP method corresponds to create, read, update, and delete actions.\n",
    "\n",
    "     | CRUD Operation | HTTP Method |\n",
    "     | -------------- | ----------- |\n",
    "     | Create         | POST        |\n",
    "     | Read           | GET         |\n",
    "     | Update         | PUT/PATCH   |\n",
    "     | Delete         | DELETE      |"
   ]
  },
  {
   "cell_type": "markdown",
   "metadata": {},
   "source": [
    "3. **Designing RESTful URIs:**\n",
    "\n",
    "   - **Resources Provided:**\n",
    "     - **Users**\n",
    "     - **Posts**\n",
    "     - **Comments**\n",
    "     - **Categories**\n",
    "     - **Tags**\n",
    "   - **Task:** For each resource, design RESTful URIs for the following actions:\n",
    "     - **Listing all items**\n",
    "     - **Retrieving a specific item**\n",
    "     - **Creating a new item**\n",
    "     - **Updating an existing item**\n",
    "     - **Deleting an item**\n",
    "   - **Objective:** Practice constructing standard RESTful endpoints."
   ]
  },
  {
   "cell_type": "markdown",
   "metadata": {},
   "source": [
    "Users: \n",
    "    - Listing all items: GET https://api.example.com/users\n",
    "    - Retrieving a specific item: GET https://api.example.com/users/id={id}\n",
    "    - Creating a new item: \n",
    "      - POST api.example.com/users\n",
    "      - body {user_id=value}\n",
    "    - Updating an item:\n",
    "      - PUT api.example.com/users/{old_user}\n",
    "      - body {user_id=new_value}\n",
    "    - Deleting item:\n",
    "      - DELETE api.example.com/users/{user_to_delete}\n",
    "\n",
    "Same for everything else"
   ]
  },
  {
   "cell_type": "markdown",
   "metadata": {},
   "source": [
    "4. **Understanding Status Codes:**\n",
    "\n",
    "   - **Scenarios:**\n",
    "     1. **Resource Not Found:** A client requests a user profile that doesn't exist.\n",
    "     2. **Unauthorized Access:** A client tries to access a protected resource without valid authentication.\n",
    "     3. **Successful Creation:** A new post is successfully created on the server.\n",
    "     4. **Bad Request:** A client sends a request with invalid syntax that the server cannot understand.\n",
    "   - **Task:** Determine the appropriate HTTP status code for each scenario.\n",
    "   - **Objective:** Familiarize yourself with common HTTP status codes and their meanings."
   ]
  },
  {
   "cell_type": "markdown",
   "metadata": {},
   "source": [
    "1 - Not Found:\n",
    "    Code 404\n",
    "2 - Unauthorized:\n",
    "    Code 401\n",
    "3 - Created:\n",
    "    Code 201\n",
    "4 - Bad Request:\n",
    "    Code 400"
   ]
  }
 ],
 "metadata": {
  "language_info": {
   "name": "python"
  }
 },
 "nbformat": 4,
 "nbformat_minor": 2
}
