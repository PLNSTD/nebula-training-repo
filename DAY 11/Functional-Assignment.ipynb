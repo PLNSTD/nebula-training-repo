{
 "cells": [
  {
   "cell_type": "markdown",
   "metadata": {},
   "source": [
    "1. **List Transformation:** Use `map` to create a list of the lengths of each word in the list `[\"Python\", \"Programming\", \"Is\", \"Fun\"]`.\n"
   ]
  },
  {
   "cell_type": "code",
   "execution_count": 2,
   "metadata": {},
   "outputs": [
    {
     "name": "stdout",
     "output_type": "stream",
     "text": [
      "[6, 11, 2, 3]\n"
     ]
    }
   ],
   "source": [
    "# 1\n",
    "words = ['Python', 'Programming', 'Is', 'Fun']\n",
    "list_of_lengths = list(map(lambda a : len(a), words))\n",
    "print(list_of_lengths)"
   ]
  },
  {
   "cell_type": "markdown",
   "metadata": {},
   "source": [
    "2. **Filtering Values:** Use `filter` to get all the prime numbers from a list `[2, 3, 4, 5, 6, 7, 8, 9, 10]`.\n"
   ]
  },
  {
   "cell_type": "code",
   "execution_count": 8,
   "metadata": {},
   "outputs": [
    {
     "name": "stdout",
     "output_type": "stream",
     "text": [
      "[2, 3, 5, 7]\n"
     ]
    }
   ],
   "source": [
    "# 2\n",
    "numbers = [2, 3, 4, 5, 6, 7, 8, 9, 10]\n",
    "\n",
    "def check_prime(num):\n",
    "    if num > 1:\n",
    "        for i in range(2, (num//2) + 1):\n",
    "            # If num is divisible by any number between\n",
    "            # 2 and n / 2, it is not prime\n",
    "            if num % i == 0:\n",
    "                return False\n",
    "    return True\n",
    "\n",
    "prime_numbers = list(filter(check_prime, numbers))\n",
    "print(prime_numbers)"
   ]
  },
  {
   "cell_type": "markdown",
   "metadata": {},
   "source": [
    "3. **Data Aggregation:** Use `reduce` to concatenate a list of strings into a single sentence: `[\"Functional\", \"programming\", \"in\", \"Python\"]`.\n"
   ]
  },
  {
   "cell_type": "code",
   "execution_count": 7,
   "metadata": {},
   "outputs": [
    {
     "name": "stdout",
     "output_type": "stream",
     "text": [
      "Functional programming in Python\n"
     ]
    }
   ],
   "source": [
    "# 3\n",
    "from functools import reduce\n",
    "\n",
    "words = ['Functional', 'programming', 'in', 'Python']\n",
    "\n",
    "concatenated_words = reduce(lambda a, b: a + ' ' + b, words)\n",
    "print(concatenated_words)"
   ]
  }
 ],
 "metadata": {
  "kernelspec": {
   "display_name": "Python 3",
   "language": "python",
   "name": "python3"
  },
  "language_info": {
   "codemirror_mode": {
    "name": "ipython",
    "version": 3
   },
   "file_extension": ".py",
   "mimetype": "text/x-python",
   "name": "python",
   "nbconvert_exporter": "python",
   "pygments_lexer": "ipython3",
   "version": "3.12.6"
  }
 },
 "nbformat": 4,
 "nbformat_minor": 2
}
