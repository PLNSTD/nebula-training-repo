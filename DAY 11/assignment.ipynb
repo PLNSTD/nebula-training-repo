{
 "cells": [
  {
   "cell_type": "markdown",
   "metadata": {},
   "source": [
    "### Practical Exercises\n",
    "celsius = [12,3,8,9]\n",
    "1. **Transforming Data:** Use `map` to convert a list of temperatures from Celsius to Fahrenheit.\n",
    "names = ['john','alyssa']\n",
    "2. **Filtering Data:** Use `filter` to extract names starting with a particular letter from a list.\n",
    "numbers[1,2,3,4,5]\n",
    "3. **Aggregating Data:** Use `reduce` to calculate the total of a list of numbers."
   ]
  },
  {
   "cell_type": "code",
   "execution_count": 1,
   "metadata": {},
   "outputs": [
    {
     "name": "stdout",
     "output_type": "stream",
     "text": [
      "[53.6, 37.4, 46.4, 48.2]\n"
     ]
    }
   ],
   "source": [
    "# 1 Transforming Data\n",
    "celsius_temp = [12, 3, 8, 9]\n",
    "\n",
    "def celsius_to_fahr_function(a):\n",
    "    return ((9 / 5) * a) + 32\n",
    "\n",
    "print(list(map(celsius_to_fahr_function, celsius_temp)))"
   ]
  },
  {
   "cell_type": "code",
   "execution_count": 6,
   "metadata": {},
   "outputs": [
    {
     "name": "stdout",
     "output_type": "stream",
     "text": [
      "['alyssa']\n"
     ]
    }
   ],
   "source": [
    "# 2 Filtering Data\n",
    "names = ['john','alyssa']\n",
    "\n",
    "print(list(filter(lambda a: 'y' in a, names)))"
   ]
  },
  {
   "cell_type": "code",
   "execution_count": 5,
   "metadata": {},
   "outputs": [
    {
     "name": "stdout",
     "output_type": "stream",
     "text": [
      "15\n"
     ]
    }
   ],
   "source": [
    "# 3 Aggregation Data\n",
    "from functools import reduce\n",
    "\n",
    "numbers = [1, 2, 3, 4, 5]\n",
    "print(reduce(lambda a, b: a + b, numbers))"
   ]
  }
 ],
 "metadata": {
  "kernelspec": {
   "display_name": "Python 3",
   "language": "python",
   "name": "python3"
  },
  "language_info": {
   "codemirror_mode": {
    "name": "ipython",
    "version": 3
   },
   "file_extension": ".py",
   "mimetype": "text/x-python",
   "name": "python",
   "nbconvert_exporter": "python",
   "pygments_lexer": "ipython3",
   "version": "3.12.6"
  }
 },
 "nbformat": 4,
 "nbformat_minor": 2
}
