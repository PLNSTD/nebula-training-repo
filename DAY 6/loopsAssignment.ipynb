{
 "cells": [
  {
   "cell_type": "markdown",
   "metadata": {},
   "source": [
    "## Exercise 1: Basic Loop Structures\n",
    "\n",
    "Understanding the basics of loops is essential for iteration in Python.\n",
    "\n",
    "- **Task 1.1:** Write a `while` loop that prints the numbers 1 through 10.\n",
    "- **Task 1.2:** Write a `for` loop that prints each character in the string `\"Python\"`.\n",
    "- **Task 1.3:** Create a `for` loop that iterates over a list of numbers and prints the square of each number."
   ]
  },
  {
   "cell_type": "code",
   "execution_count": 2,
   "metadata": {},
   "outputs": [
    {
     "name": "stdout",
     "output_type": "stream",
     "text": [
      "1\n",
      "2\n",
      "3\n",
      "4\n",
      "5\n",
      "6\n",
      "7\n",
      "8\n",
      "9\n",
      "10\n"
     ]
    }
   ],
   "source": [
    "# Task 1.1\n",
    "start = 1\n",
    "\n",
    "while start <= 10:\n",
    "    print(start)\n",
    "    start += 1"
   ]
  },
  {
   "cell_type": "code",
   "execution_count": 3,
   "metadata": {},
   "outputs": [
    {
     "name": "stdout",
     "output_type": "stream",
     "text": [
      "P\n",
      "y\n",
      "t\n",
      "h\n",
      "o\n",
      "n\n"
     ]
    }
   ],
   "source": [
    "# Task 1.2\n",
    "pythonStr = 'Python'\n",
    "\n",
    "for pythonChar in pythonStr:\n",
    "    print(pythonChar)"
   ]
  },
  {
   "cell_type": "code",
   "execution_count": 9,
   "metadata": {},
   "outputs": [
    {
     "name": "stdout",
     "output_type": "stream",
     "text": [
      "Square of 0 = 0\n",
      "Square of 1 = 1\n",
      "Square of 2 = 4\n",
      "Square of 3 = 9\n",
      "Square of 4 = 16\n",
      "Square of 5 = 25\n",
      "Square of 6 = 36\n",
      "Square of 7 = 49\n",
      "Square of 8 = 64\n",
      "Square of 9 = 81\n"
     ]
    }
   ],
   "source": [
    "# Task 1.3\n",
    "for i in range(10):\n",
    "    print(f\"Square of {i} = {pow(i,2)}\")"
   ]
  },
  {
   "cell_type": "markdown",
   "metadata": {},
   "source": [
    "## Exercise 2: Controlling Loop Flow\n",
    "\n",
    "`break` and `continue` statements can modify the flow of loops.\n",
    "\n",
    "- **Task 2.1:** Write a `while` loop that stops printing numbers from 1 to 10 when the number reaches 7 using the `break` statement.\n",
    "- **Task 2.2:** Write a `for` loop that skips printing the number 5 when iterating over numbers 1 through 10 using the `continue` statement."
   ]
  },
  {
   "cell_type": "code",
   "execution_count": 26,
   "metadata": {},
   "outputs": [
    {
     "name": "stdout",
     "output_type": "stream",
     "text": [
      "1\n",
      "2\n",
      "3\n",
      "4\n",
      "5\n",
      "6\n"
     ]
    }
   ],
   "source": [
    "# Task 2.1\n",
    "counter = 1\n",
    "\n",
    "while counter <= 10:\n",
    "    if counter == 7:\n",
    "        break\n",
    "    print(counter)\n",
    "    counter += 1"
   ]
  },
  {
   "cell_type": "code",
   "execution_count": 8,
   "metadata": {},
   "outputs": [
    {
     "name": "stdout",
     "output_type": "stream",
     "text": [
      "1\n",
      "2\n",
      "3\n",
      "4\n",
      "6\n",
      "7\n",
      "8\n",
      "9\n",
      "10\n"
     ]
    }
   ],
   "source": [
    "# Task 2.2\n",
    "\n",
    "for counter in range(1,11):\n",
    "    if counter == 5:\n",
    "        continue\n",
    "    print(counter)"
   ]
  },
  {
   "cell_type": "markdown",
   "metadata": {},
   "source": [
    "## Exercise 3: Nested Loops\n",
    "\n",
    "Nested loops allow for more complex iterations and data processing.\n",
    "\n",
    "grid*list = [\n",
    "[[0,0],[0,1],[0,2]],\n",
    "[[1,0],[1,1],[1,2]],\n",
    "[[2,0],[2,1],[2,2]]\n",
    "]\n",
    "\\_CHALLENGE*\n",
    "\n",
    "- **Task 3.1:** Write a nested `for` loop that prints a 3x3 grid of numbers (i.e., rows and columns of numbers from 0 to 2).\n",
    "  ^^ skip task 3.1\n",
    "- **Task 3.2:** Using nested loops, write a program to print the multiplication table for numbers 1 through 5."
   ]
  },
  {
   "cell_type": "code",
   "execution_count": 15,
   "metadata": {},
   "outputs": [
    {
     "name": "stdout",
     "output_type": "stream",
     "text": [
      "['0-0', '0-1', '0-2']\n",
      "['1-0', '1-1', '1-2']\n",
      "['2-0', '2-1', '2-2']\n"
     ]
    }
   ],
   "source": [
    "# Task 3.1\n",
    "output = []\n",
    "\n",
    "# outer loop\n",
    "for i in range(3):\n",
    "    output.append([])\n",
    "    for j in range(3):\n",
    "        output[i].append(str(i)+'-'+str(j))\n",
    "    print(output[i])\n",
    "    \n",
    "# print(output)"
   ]
  },
  {
   "cell_type": "code",
   "execution_count": 25,
   "metadata": {},
   "outputs": [
    {
     "name": "stdout",
     "output_type": "stream",
     "text": [
      "x - 1, 2, 3, 4, 5\n",
      "-------------------\n",
      "1|-[1, 2, 3, 4, 5]\n",
      "2|-[2, 4, 6, 8, 10]\n",
      "3|-[3, 6, 9, 12, 15]\n",
      "4|-[4, 8, 12, 16, 20]\n",
      "5|-[5, 10, 15, 20, 25]\n"
     ]
    }
   ],
   "source": [
    "# Task 3.2\n",
    "multiplication_table = []\n",
    "print('x - 1, 2, 3, 4, 5')\n",
    "print('-------------------')\n",
    "for num_1 in range(1,6):\n",
    "    multiplication_table.append([])\n",
    "    for num_2 in range(1,6):\n",
    "        prod = num_1 * num_2\n",
    "        multiplication_table[num_1-1].append(prod)\n",
    "    print(str(num_1)+'|-'+str(multiplication_table[num_1-1]))\n"
   ]
  }
 ],
 "metadata": {
  "kernelspec": {
   "display_name": "Python 3",
   "language": "python",
   "name": "python3"
  },
  "language_info": {
   "codemirror_mode": {
    "name": "ipython",
    "version": 3
   },
   "file_extension": ".py",
   "mimetype": "text/x-python",
   "name": "python",
   "nbconvert_exporter": "python",
   "pygments_lexer": "ipython3",
   "version": "3.12.6"
  }
 },
 "nbformat": 4,
 "nbformat_minor": 2
}
