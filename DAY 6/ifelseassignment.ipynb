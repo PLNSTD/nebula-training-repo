{
 "cells": [
  {
   "cell_type": "markdown",
   "metadata": {},
   "source": [
    "Here’s a new assignment on **Conditional Statements**, based on the provided lecture:\n",
    "\n",
    "---\n",
    "\n",
    "# Mastering Python Conditional Statements Assignment\n",
    "\n",
    "## Exercise 1: Basic Decision Making\n",
    "\n",
    "Understanding the core of conditional statements is crucial for decision-making in Python.\n",
    "\n",
    "- **Task 1.1:** Write a program to check if a number is positive, negative, or zero.\n",
    "  - **Input:** Any integer.\n",
    "  - **Output:** A string stating whether the number is \"positive\", \"negative\", or \"zero\".\n",
    "  \n",
    "```python\n",
    "# Task 1.1\n",
    "\n",
    "```\n"
   ]
  },
  {
   "cell_type": "markdown",
   "metadata": {},
   "source": [
    "\n",
    "## Exercise 2: Logical Operators\n",
    "\n",
    "Logical operators like `and`, `or`, and `not` help in combining conditions for complex decision-making.\n",
    "\n",
    "- **Task 2.1:** Create a program that determines if a year is a leap year using logical operators.\n",
    "  - **Input:** A year.\n",
    "  - **Output:** `True` if the year is a leap year, `False` otherwise.\n",
    "  \n",
    "```python\n",
    "# Task 2.1\n",
    "\n",
    "```\n"
   ]
  },
  {
   "cell_type": "markdown",
   "metadata": {},
   "source": [
    "\n",
    "## Exercise 3: Nested Conditional Statements\n",
    "\n",
    "Nesting allows deeper decision-making processes by layering conditions within conditions.\n",
    "\n",
    "- **Task 3.1:** Write a program that categorizes a person’s life stage as follows: \n",
    "  - **Child** (under 18)\n",
    "  - **Adult** (18-64)\n",
    "  - **Senior** (65 and older).\n",
    "  - **Input:** Age as an integer.\n",
    "  - **Output:** A string representing the life stage.\n",
    "  \n",
    "```python\n",
    "# Task 3.1\n",
    "\n",
    "```\n"
   ]
  },
  {
   "cell_type": "markdown",
   "metadata": {},
   "source": [
    "\n",
    "## Exercise 4: Complex Decision Making\n",
    "\n",
    "Use conditional statements to create more complex decision-making systems.\n",
    "\n",
    "- **Task 4.1:** Write a program that asks for the temperature in Fahrenheit and Celsius, and the unit to which you want to convert. It should then convert the temperature.\n",
    "  - **Input:** Temperature and the target unit (`\"Celsius\"` or `\"Fahrenheit\"`).\n",
    "  - **Output:** The converted temperature.\n",
    "  \n",
    "```python\n",
    "# Task 4.1\n",
    "\n",
    "```\n"
   ]
  },
  {
   "cell_type": "code",
   "execution_count": 7,
   "metadata": {},
   "outputs": [
    {
     "name": "stdout",
     "output_type": "stream",
     "text": [
      "74.0°F converted to 23°C\n"
     ]
    }
   ],
   "source": [
    "userTempUnit = input('Insert your temperature unit (C - Celsius or F - Fahrenheit): ')\n",
    "\n",
    "if userTempUnit != 'C' and userTempUnit != 'F':\n",
    "    print('Retrying inserting C or F as units')\n",
    "else:\n",
    "    userTempDegrees = float(input('Insert your temperature degrees: '))\n",
    "    # °F = (9/5) °C+32\n",
    "    if userTempUnit == 'C':\n",
    "        targetTempUnit = 'F'\n",
    "        targetTempDegrees = ((9 / 5) * userTempDegrees) + 32\n",
    "    else:\n",
    "        targetTempUnit = 'C'\n",
    "        targetTempDegrees = (userTempDegrees - 32) * (5 / 9)\n",
    "\n",
    "    print(f\"{userTempDegrees}°{userTempUnit} converted to {round(targetTempDegrees)}°{targetTempUnit}\")\n"
   ]
  },
  {
   "cell_type": "markdown",
   "metadata": {},
   "source": [
    "\n",
    "## Exercise 5: Grading System\n",
    "\n",
    "Implement a decision-making structure for a grading system.\n",
    "\n",
    "- **Task 5.1:** Write a program to convert a percentage score to a letter grade.\n",
    "  - **A:** 90–100\n",
    "  - **B:** 80–89\n",
    "  - **C:** 70–79\n",
    "  - **D:** 60–69\n",
    "  - **F:** Below 60\n",
    "  - **Input:** Score as a percentage.\n",
    "  - **Output:** The corresponding grade.\n",
    "  \n",
    "```python\n",
    "# Task 5.1\n",
    "\n",
    "```\n"
   ]
  },
  {
   "cell_type": "code",
   "execution_count": 8,
   "metadata": {},
   "outputs": [
    {
     "name": "stdout",
     "output_type": "stream",
     "text": [
      "Your score converted to letter grade is: B\n"
     ]
    }
   ],
   "source": [
    "letterGrades = ['A','B','C','D','F']\n",
    "\n",
    "percentageScore = float(input('Insert your percentage score (0-100): '))\n",
    "\n",
    "if percentageScore > 100:\n",
    "    output = 'ERROR: Scores higher than 100 not Supported!'\n",
    "else:\n",
    "    output = 'Your score converted to letter grade is: '\n",
    "    if percentageScore >= 90:\n",
    "        output += letterGrades[0]\n",
    "    elif percentageScore >= 80:\n",
    "        output += letterGrades[1]\n",
    "    elif percentageScore >= 70:\n",
    "        output += letterGrades[2]\n",
    "    elif percentageScore >= 60:\n",
    "        output += letterGrades[3]\n",
    "    else:\n",
    "        output += letterGrades[4]\n",
    "\n",
    "print(output)"
   ]
  }
 ],
 "metadata": {
  "kernelspec": {
   "display_name": "Python 3",
   "language": "python",
   "name": "python3"
  },
  "language_info": {
   "codemirror_mode": {
    "name": "ipython",
    "version": 3
   },
   "file_extension": ".py",
   "mimetype": "text/x-python",
   "name": "python",
   "nbconvert_exporter": "python",
   "pygments_lexer": "ipython3",
   "version": "3.12.6"
  }
 },
 "nbformat": 4,
 "nbformat_minor": 2
}
