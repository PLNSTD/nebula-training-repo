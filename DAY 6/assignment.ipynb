{
 "cells": [
  {
   "cell_type": "markdown",
   "metadata": {},
   "source": [
    "**Practice:**\n",
    "1. **Basic Decision Making:**   - Write a program to check if a number is positive, negative, or zero.   - Input: Any integer.   - Output: A string stating the type of number.\n",
    "2. **Logical Operators:**   - Create a program that determines if a year is a leap year. Use logical operators.   - Input: A year.   - Output: True if a leap year, False otherwise.\n",
    "3. **Nested Conditional Statements:**   \n",
    " Develop a program that categorizes a person's life stage: child (< 18), adult (18-64), senior (> 64).   - Input: Age as an integer.   - Output: The life stage. "
   ]
  },
  {
   "cell_type": "code",
   "execution_count": null,
   "metadata": {},
   "outputs": [],
   "source": [
    "# answers\n",
    "# 1. Basic Decision Making: - Write a program to check if a number is positive, negative, or zero.   - Input: Any integer.   - Output: A string stating the type of number.\n",
    "\n",
    "numToCheck = int(input('Insert an integer'))\n",
    "\n",
    "if numToCheck > 0:\n",
    "    print('Number is positive')\n",
    "elif numToCheck == 0:\n",
    "    print('Number is zero')\n",
    "else:\n",
    "    print('Number is negative')"
   ]
  },
  {
   "cell_type": "code",
   "execution_count": null,
   "metadata": {},
   "outputs": [],
   "source": [
    "# 2 Logical Operators\n",
    "# A leap year is such when is fully divisible by 4\n",
    "\n",
    "yearToCheck = int(input('Insert a year (YYYY): '))\n",
    "\n",
    "if (yearToCheck % 4 == 0 and yearToCheck % 100 != 0) or yearToCheck % 400 == 0:\n",
    "    print(f\"{yearToCheck} is a leap year\")\n",
    "else:\n",
    "    print(f\"{yearToCheck} is NOT a leap year\")"
   ]
  },
  {
   "cell_type": "code",
   "execution_count": null,
   "metadata": {},
   "outputs": [],
   "source": [
    "# 3. **Nested Conditional Statements:** Develop a program that categorizes a person's life stage: child (< 18), adult (18-64), senior (> 64).   - Input: Age as an integer.   - Output: The life stage. \n",
    "personAge = int(input('Insert the person\\'s age: '))\n",
    "\n",
    "if personAge < 18:\n",
    "    print('This person is a child')\n",
    "elif personAge >= 18 and personAge <= 64:\n",
    "    print('This person is an adult')\n",
    "elif personAge > 64:\n",
    "    print('This person is a senior')\n",
    "else:\n",
    "    print('Not born or Immortal')"
   ]
  }
 ],
 "metadata": {
  "language_info": {
   "name": "python"
  }
 },
 "nbformat": 4,
 "nbformat_minor": 2
}
