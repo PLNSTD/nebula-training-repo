{
 "cells": [
  {
   "cell_type": "markdown",
   "metadata": {},
   "source": [
    "# CSV File Handling Assignment\n",
    "\n",
    "## Exercise 1: Basic CSV File Operations\n",
    "\n",
    "In this exercise, you'll apply basic operations on CSV files using Python's `csv` module.\n",
    "\n",
    "* **Task 1.1:** Write a Python script to create a CSV file named `students.csv` and add the following data to it:\n",
    "    - Headers: `Name`, `Age`, `Major`\n",
    "    - Rows: \n",
    "        - Alice, 24, Computer Science\n",
    "        - Bob, 22, Mathematics\n",
    "        - Charlie, 23, Physics\n",
    "    - Ensure you close the file properly after writing."
   ]
  },
  {
   "cell_type": "code",
   "execution_count": 34,
   "metadata": {},
   "outputs": [],
   "source": [
    "# Task 1.1\n",
    "import csv\n",
    "\n",
    "headers = 'Name,Age,Major'\n",
    "data = '''\n",
    "Alice,24,Computer Science\n",
    "Bob,22,Mathematics\n",
    "Charlie,23,Physics\n",
    "'''\n",
    "\n",
    "with open('students.csv','w',newline='') as csv_file:\n",
    "    csv_file.write(headers)\n",
    "    csv_file.write(data)"
   ]
  },
  {
   "cell_type": "markdown",
   "metadata": {},
   "source": [
    "* **Task 1.2:** Read the file `students.csv` you just created, print each row to the console."
   ]
  },
  {
   "cell_type": "code",
   "execution_count": 35,
   "metadata": {},
   "outputs": [
    {
     "name": "stdout",
     "output_type": "stream",
     "text": [
      "['Name', 'Age', 'Major']\n",
      "['Alice', '24', 'Computer Science']\n",
      "['Bob', '22', 'Mathematics']\n",
      "['Charlie', '23', 'Physics']\n"
     ]
    }
   ],
   "source": [
    "# Task 1.2\n",
    "with open('students.csv', 'r') as csv_file:\n",
    "    file_reader = csv.reader(csv_file)\n",
    "    for row in file_reader:\n",
    "        print(row)"
   ]
  },
  {
   "cell_type": "markdown",
   "metadata": {},
   "source": [
    "* **Task 1.3:** Append a new row with your own choice of data to `students.csv` and print the entire file content to verify the addition."
   ]
  },
  {
   "cell_type": "code",
   "execution_count": 38,
   "metadata": {},
   "outputs": [
    {
     "name": "stdout",
     "output_type": "stream",
     "text": [
      "['Name', 'Age', 'Major']\n",
      "['Alice', '24', 'Computer Science']\n",
      "['Bob', '22', 'Mathematics']\n",
      "['Charlie', '23', 'Physics']\n",
      "['Markus', '22', 'Computer Science']\n",
      "['Markus', '22', 'Computer Science']\n",
      "['Markus', '22', 'Computer Science']\n"
     ]
    }
   ],
   "source": [
    "# Task 1.3\n",
    "with open('students.csv', 'a') as file:\n",
    "    file.write('Markus,22,Computer Science\\n')\n",
    "\n",
    "with open('students.csv', 'r') as csv_file:\n",
    "    file_reader = csv.reader(csv_file)\n",
    "    for row in file_reader:\n",
    "        print(row)"
   ]
  },
  {
   "cell_type": "markdown",
   "metadata": {},
   "source": [
    "## Exercise 2: Advanced CSV Handling\n",
    "\n",
    "Let's explore more sophisticated CSV handling techniques.\n",
    "\n",
    "* **Task 2.1:** Create a CSV file `courses.csv` using a dictionary with fieldnames as `CourseID`, `CourseName`, and `Instructor`. Add at least 3 courses to the CSV and print the content of the file."
   ]
  },
  {
   "cell_type": "code",
   "execution_count": 42,
   "metadata": {},
   "outputs": [
    {
     "name": "stdout",
     "output_type": "stream",
     "text": [
      "{'CourseID': '2319831290', 'CourseName': 'nebula-python-training', 'Instructor': 'Devon'}\n",
      "{'CourseID': '123', 'CourseName': 'Biology', 'Instructor': 'Mery'}\n",
      "{'CourseID': '109', 'CourseName': 'Literature', 'Instructor': 'Bob'}\n"
     ]
    }
   ],
   "source": [
    "# Task 2.1\n",
    "data = [\n",
    "    {'CourseID': 2319831290, \n",
    "     'CourseName': 'nebula-python-training', \n",
    "     'Instructor': 'Devon'},\n",
    "     {'CourseID': 123, \n",
    "     'CourseName': 'Biology', \n",
    "     'Instructor': 'Mery'},\n",
    "     {'CourseID': 109, \n",
    "     'CourseName': 'Literature', \n",
    "     'Instructor': 'Bob'}\n",
    "]\n",
    "with open('courses.csv', 'w') as file:\n",
    "    fieldnames = ['CourseID', 'CourseName', 'Instructor']\n",
    "    csv_dict_writer = csv.DictWriter(file, fieldnames=fieldnames)\n",
    "    csv_dict_writer.writeheader()\n",
    "    for row in data:\n",
    "        csv_dict_writer.writerow(row)\n",
    "\n",
    "with open('courses.csv', 'r') as file:\n",
    "    csv_dict_reader = csv.DictReader(file)\n",
    "    for row in csv_dict_reader:\n",
    "        print(row)"
   ]
  },
  {
   "cell_type": "markdown",
   "metadata": {},
   "source": [
    "* **Task 2.2:** Read the `courses.csv` file using `DictReader` and print each row as a dictionary."
   ]
  },
  {
   "cell_type": "code",
   "execution_count": 43,
   "metadata": {},
   "outputs": [
    {
     "name": "stdout",
     "output_type": "stream",
     "text": [
      "{'CourseID': '2319831290', 'CourseName': 'nebula-python-training', 'Instructor': 'Devon'}\n",
      "{'CourseID': '123', 'CourseName': 'Biology', 'Instructor': 'Mery'}\n",
      "{'CourseID': '109', 'CourseName': 'Literature', 'Instructor': 'Bob'}\n"
     ]
    }
   ],
   "source": [
    "# Task 2.2\n",
    "with open('courses.csv', 'r') as file:\n",
    "    csv_dict_reader = csv.DictReader(file)\n",
    "    for row in csv_dict_reader:\n",
    "        print(row)"
   ]
  },
  {
   "cell_type": "markdown",
   "metadata": {},
   "source": [
    "* **Task 2.3:** Modify the delimiter of your CSV writer and reader to use a semicolon (`;`) instead of a comma, create a new file `courses_semicolon.csv` and perform read/write operations. Verify by printing the content.\n"
   ]
  },
  {
   "cell_type": "code",
   "execution_count": 48,
   "metadata": {},
   "outputs": [
    {
     "name": "stdout",
     "output_type": "stream",
     "text": [
      "['2319831290', 'nebula-python-training', 'Devon']\n",
      "['123', 'Biology', 'Mery', '']\n",
      "['109', 'Literature', 'Bob']\n"
     ]
    }
   ],
   "source": [
    "# Task 2.3\n",
    "data = '''2319831290;nebula-python-training;Devon\n",
    "123;Biology;Mery;\n",
    "109;Literature;Bob\n",
    "'''\n",
    "with open('courses_semicolon.csv', 'w') as file:\n",
    "    file.write(data)\n",
    "\n",
    "with open('courses_semicolon.csv', 'r') as file:\n",
    "    file_reader = csv.reader(file, delimiter=';')\n",
    "    for row in file_reader:\n",
    "        print(row)\n"
   ]
  },
  {
   "cell_type": "markdown",
   "metadata": {},
   "source": [
    "## Exercise 3: Error Handling\n",
    "\n",
    "Implement error handling in file operations to manage unexpected situations.\n",
    "\n",
    "* **Task 3.1:** Attempt to read a file `nonexistent.csv` that does not exist, handle the `FileNotFoundError` to print a custom error message instead of the default traceback.\n"
   ]
  },
  {
   "cell_type": "code",
   "execution_count": 49,
   "metadata": {},
   "outputs": [
    {
     "name": "stdout",
     "output_type": "stream",
     "text": [
      "File not found.\n"
     ]
    }
   ],
   "source": [
    "# Task 3.1\n",
    "try:\n",
    "    with open('nonexistent.csv', 'r') as file:\n",
    "        file_reader = csv.reader(file)\n",
    "        print(file_reader)\n",
    "except FileNotFoundError:\n",
    "    print('File not found.')"
   ]
  },
  {
   "cell_type": "markdown",
   "metadata": {},
   "source": [
    "## Reflection\n",
    "\n",
    "Upon completion of these exercises, reflect on the following points and write a short paragraph:\n",
    "\n",
    "- Discuss the importance of using the `csv` module for handling CSV files in Python projects.\n",
    "  - I think it has a lot of importance with database files and to manipulate data within the file like excel tables in format 'csv'\n",
    "- How does handling errors and using custom delimiters enhance the robustness and flexibility of file operations?\n",
    "  - It grants the opportunity to not crash with an error like file missing or non existing by handling the error or guiding the user towards a better usage of the program\n",
    "  - For the custom delimiters it makes data flexible when written by different programs or different Software Developers\n",
    "- Reflect on how the assignment helped you understand the practical application of CSV file operations in real-world projects.\n",
    "  - It was something new to me and it makes me wondering about excel data manipulation in python programs. But it really makes me interested in data trasferring between different languages and applications like managing data in a python Server and transfer it to a JS Webpage."
   ]
  }
 ],
 "metadata": {
  "kernelspec": {
   "display_name": "Python 3",
   "language": "python",
   "name": "python3"
  },
  "language_info": {
   "codemirror_mode": {
    "name": "ipython",
    "version": 3
   },
   "file_extension": ".py",
   "mimetype": "text/x-python",
   "name": "python",
   "nbconvert_exporter": "python",
   "pygments_lexer": "ipython3",
   "version": "3.12.6"
  }
 },
 "nbformat": 4,
 "nbformat_minor": 2
}
