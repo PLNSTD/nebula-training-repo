{
 "cells": [
  {
   "cell_type": "markdown",
   "metadata": {},
   "source": [
    "## Practical Exercises\n",
    " \n",
    "1. **Car Class Implementation:** Create a `Car` class with methods like `start_engine`.\n",
    "2. **Electric Car Extension:** Develop an `ElectricCar` subclass with unique attributes.\n",
    "3. **Polymorphism Demonstration:** Use method overriding to demonstrate polymorphism with animal classes."
   ]
  },
  {
   "cell_type": "code",
   "execution_count": 2,
   "metadata": {},
   "outputs": [
    {
     "name": "stdout",
     "output_type": "stream",
     "text": [
      "The Mustang's engine is Off\n",
      "The Mustang's engine has started\n",
      "The Mustang's engine is On\n",
      "The Mustang's engine has stopped\n",
      "The Mustang's engine is Off\n"
     ]
    }
   ],
   "source": [
    "# 1. Car Class Implementation: Car Class Implementation: Create a Car class with methods like start_engine.\n",
    "class Car:\n",
    "    def __init__(self, make, model, year):\n",
    "        self.make = make\n",
    "        self.model = model\n",
    "        self.year = year\n",
    "        self.engine_on = False\n",
    "    def start_engine(self):\n",
    "        print(f\"The {self.model}'s engine has started\")\n",
    "        self.engine_on = True\n",
    "    def stop_engine(self):\n",
    "        print(f\"The {self.model}'s engine has stopped\")\n",
    "        self.engine_on = False\n",
    "    def check_engine(self):\n",
    "        print(f\"The {self.model}'s engine is {'On' if self.engine_on else 'Off'}\")\n",
    "car = Car('Ford', 'Mustang', 2012)\n",
    "\n",
    "car.check_engine()\n",
    "car.start_engine()\n",
    "car.check_engine()\n",
    "car.stop_engine()\n",
    "car.check_engine()"
   ]
  },
  {
   "cell_type": "code",
   "execution_count": 6,
   "metadata": {},
   "outputs": [
    {
     "name": "stdout",
     "output_type": "stream",
     "text": [
      "The Model-3's electric motor is now running silently.\n",
      "The Model-3 is now driving silently.\n",
      "The Model-3 's battery is charging.\n",
      "Tesla's battery capacity is at 95\n"
     ]
    }
   ],
   "source": [
    "# 2. Electric Car Extension: Develop an ElectricCar subclass with unique attributes.\n",
    "class ElectricCar(Car):\n",
    "    def __init__(self, make, model, year, battery_capacity):\n",
    "        super().__init__(make, model, year)\n",
    "        self.battery_capacity = battery_capacity\n",
    "    \n",
    "    def start_engine(self):\n",
    "        print(f\"The {self.model}'s electric motor is now running silently.\")\n",
    "\n",
    "    def charge_battery(self):\n",
    "        print(f\"The {self.model} 's battery is charging.\")\n",
    "        self.battery_capacity += 5\n",
    "    \n",
    "    def drive(self):\n",
    "        print(f\"The {self.model} is now driving silently.\")\n",
    "        self.battery_capacity -= 10\n",
    "    \n",
    "    def get_battery_capacity(self):\n",
    "        return print(f\"Tesla's battery capacity is at {self.battery_capacity}\")\n",
    "    \n",
    "Tesla = ElectricCar('Tesla', 'Model-3', 2022, 100)\n",
    "\n",
    "Tesla.start_engine()\n",
    "Tesla.drive()\n",
    "Tesla.charge_battery()\n",
    "Tesla.get_battery_capacity()"
   ]
  },
  {
   "cell_type": "code",
   "execution_count": 17,
   "metadata": {},
   "outputs": [
    {
     "name": "stdout",
     "output_type": "stream",
     "text": [
      "The animal's sound is Woof\n",
      "The animal's sound is Meow\n"
     ]
    }
   ],
   "source": [
    "# 3. Polymorphism Demonstration: Use method overriding to demonstrate polymorphism with animal classes.\n",
    "\n",
    "class Animal:\n",
    "    def __init__(self):\n",
    "        self.sound = '?'\n",
    "    \n",
    "    def make_sound(self, sound=None):\n",
    "        print(f'The animal\\'s sound is {self.sound if not sound else sound}')\n",
    "\n",
    "class Dog(Animal):\n",
    "    def make_sound(self):\n",
    "        self.sound = 'Woof'\n",
    "        return super().make_sound()\n",
    "    \n",
    "class Cat(Animal):\n",
    "    def make_sound(self):\n",
    "        return super().make_sound('Meow')\n",
    "\n",
    "animals = [Dog(), Cat()]\n",
    "\n",
    "for animal in animals:\n",
    "    animal.make_sound()"
   ]
  }
 ],
 "metadata": {
  "kernelspec": {
   "display_name": "Python 3",
   "language": "python",
   "name": "python3"
  },
  "language_info": {
   "codemirror_mode": {
    "name": "ipython",
    "version": 3
   },
   "file_extension": ".py",
   "mimetype": "text/x-python",
   "name": "python",
   "nbconvert_exporter": "python",
   "pygments_lexer": "ipython3",
   "version": "3.12.6"
  }
 },
 "nbformat": 4,
 "nbformat_minor": 2
}
