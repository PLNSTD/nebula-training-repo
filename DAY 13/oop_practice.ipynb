{
 "cells": [
  {
   "cell_type": "markdown",
   "metadata": {},
   "source": [
    "# 🚀 Advanced Object-Oriented Programming Exercises\n",
    "\n",
    "## 1. 🐶 Implement a Basic Class\n",
    "\n",
    "Create a `Dog` class with attributes `name` and `age`, and a method `bark` that prints `\"{name} says woof!\"`. Instantiate an object of the class and call the `bark` method.\n"
   ]
  },
  {
   "cell_type": "code",
   "execution_count": 2,
   "metadata": {},
   "outputs": [
    {
     "name": "stdout",
     "output_type": "stream",
     "text": [
      "Luna says woof!\n"
     ]
    }
   ],
   "source": [
    "class Dog:\n",
    "    def __init__(self, name, age):\n",
    "        self.name = name\n",
    "        self.age = age\n",
    "    \n",
    "    def bark(self):\n",
    "        print(f'{self.name} says woof!')\n",
    "\n",
    "my_dog = Dog('Luna', 14)\n",
    "my_dog.bark()"
   ]
  },
  {
   "cell_type": "markdown",
   "metadata": {},
   "source": [
    "\n",
    "---\n",
    "\n",
    "## 2. 💰 Bank Account Encapsulation\n",
    "\n",
    "Implement a `BankAccount` class with a private attribute `__balance`. Provide public methods `deposit(amount)` and `withdraw(amount)` to modify the balance, and `get_balance()` to retrieve the current balance.\n"
   ]
  },
  {
   "cell_type": "code",
   "execution_count": 3,
   "metadata": {},
   "outputs": [
    {
     "name": "stdout",
     "output_type": "stream",
     "text": [
      "Your total balance: 0\n",
      "You don't have enough...\n",
      "Your total balance: 5\n",
      "You withdrew 5 dollars\n",
      "Your total balance: 0\n"
     ]
    }
   ],
   "source": [
    "class BankAccount:\n",
    "    def __init__(self):\n",
    "        self.__balance = 0\n",
    "    \n",
    "    def deposit(self, amount):\n",
    "        self.__balance += amount\n",
    "    \n",
    "    def withdraw(self, amount):\n",
    "        if amount <= self.__balance:\n",
    "            self.__balance -= amount\n",
    "            return print(f'You withdrew {amount} dollars')\n",
    "        print(f'You don\\'t have enough...')\n",
    "        return self.get_balance()\n",
    "    \n",
    "    def get_balance(self):\n",
    "        return print(f'Your total balance: {self.__balance}')\n",
    "    \n",
    "my_bank_account = BankAccount()\n",
    "my_bank_account.get_balance()\n",
    "my_bank_account.deposit(5)\n",
    "my_bank_account.withdraw(6)\n",
    "my_bank_account.withdraw(5)\n",
    "my_bank_account.get_balance()"
   ]
  },
  {
   "cell_type": "markdown",
   "metadata": {},
   "source": [
    "\n",
    "---\n",
    "\n",
    "## 3. 👪 Inheritance and `super()`\n",
    "\n",
    "Create a base class `Person` with attributes `name` and `age`. Then create a subclass `Employee` that inherits from `Person` and adds an attribute `employee_id`. Use `super()` to initialize the inherited attributes.\n"
   ]
  },
  {
   "cell_type": "code",
   "execution_count": 5,
   "metadata": {},
   "outputs": [
    {
     "name": "stdout",
     "output_type": "stream",
     "text": [
      "Diego\n",
      "10\n",
      "Lucio\n",
      "18\n",
      "0001\n"
     ]
    }
   ],
   "source": [
    "class Person:\n",
    "    def __init__(self, name, age):\n",
    "        self.name = name\n",
    "        self.age = age\n",
    "    \n",
    "class Employee(Person):\n",
    "    def __init__(self, name, age, employee_id):\n",
    "        super().__init__(name, age)\n",
    "        self.employee_id = employee_id\n",
    "\n",
    "person1 = Person('Diego', 10)\n",
    "person2 = Employee('Lucio', 18, '0001')\n",
    "\n",
    "print(person1.name)\n",
    "print(person1.age)\n",
    "print(person2.name)\n",
    "print(person2.age)\n",
    "print(person2.employee_id)"
   ]
  },
  {
   "cell_type": "markdown",
   "metadata": {},
   "source": [
    "\n",
    "---\n",
    "\n",
    "## 4. 🐾 Method Overriding and Polymorphism\n",
    "\n",
    "Define a base class `Animal` with a method `speak()`. Create subclasses `Cat` and `Dog` that override the `speak()` method to return `\"Meow\"` and `\"Woof\"`, respectively. Write a function that takes an `Animal` object and calls its `speak()` method.\n"
   ]
  },
  {
   "cell_type": "code",
   "execution_count": 6,
   "metadata": {},
   "outputs": [
    {
     "ename": "TypeError",
     "evalue": "Dog.speak() takes 0 positional arguments but 1 was given",
     "output_type": "error",
     "traceback": [
      "\u001b[1;31m---------------------------------------------------------------------------\u001b[0m",
      "\u001b[1;31mTypeError\u001b[0m                                 Traceback (most recent call last)",
      "Cell \u001b[1;32mIn[6], line 21\u001b[0m\n\u001b[0;32m     19\u001b[0m animals \u001b[38;5;241m=\u001b[39m [Dog(), Cat(), Animal()]\n\u001b[0;32m     20\u001b[0m \u001b[38;5;28;01mfor\u001b[39;00m animal \u001b[38;5;129;01min\u001b[39;00m animals:\n\u001b[1;32m---> 21\u001b[0m     \u001b[43mmake_animal_speak\u001b[49m\u001b[43m(\u001b[49m\u001b[43manimal\u001b[49m\u001b[43m)\u001b[49m\n",
      "Cell \u001b[1;32mIn[6], line 17\u001b[0m, in \u001b[0;36mmake_animal_speak\u001b[1;34m(animal)\u001b[0m\n\u001b[0;32m     16\u001b[0m \u001b[38;5;28;01mdef\u001b[39;00m \u001b[38;5;21mmake_animal_speak\u001b[39m(animal):\n\u001b[1;32m---> 17\u001b[0m     \u001b[43manimal\u001b[49m\u001b[38;5;241;43m.\u001b[39;49m\u001b[43mspeak\u001b[49m\u001b[43m(\u001b[49m\u001b[43m)\u001b[49m\n",
      "\u001b[1;31mTypeError\u001b[0m: Dog.speak() takes 0 positional arguments but 1 was given"
     ]
    }
   ],
   "source": [
    "class Animal:\n",
    "    def __init__(self) -> None:\n",
    "        pass\n",
    "\n",
    "    def speak():\n",
    "        return print('?')\n",
    "    \n",
    "class Dog(Animal):\n",
    "    def speak():\n",
    "        return print('Woof')\n",
    "    \n",
    "class Cat(Animal):\n",
    "    def speak():\n",
    "        return print('Meow')\n",
    "\n",
    "def make_animal_speak(animal):\n",
    "    animal.speak()\n",
    "\n",
    "animals = [Dog(), Cat(), Animal()]\n",
    "for animal in animals:\n",
    "    make_animal_speak(animal)\n"
   ]
  },
  {
   "cell_type": "markdown",
   "metadata": {},
   "source": [
    "\n",
    "---\n",
    "\n",
    "## 5. 🔐 Access Modifiers Practice\n",
    "\n",
    "Create a class `SafeBox` with:\n",
    "\n",
    "- A public attribute `owner`\n",
    "- A protected attribute `_code`\n",
    "- A private attribute `__content`\n",
    "\n",
    "Demonstrate how to access each attribute from inside the class, and attempt to access them from outside the class to observe the behavior."
   ]
  },
  {
   "cell_type": "code",
   "execution_count": 23,
   "metadata": {},
   "outputs": [
    {
     "name": "stdout",
     "output_type": "stream",
     "text": [
      "James 007\n",
      "Pistols\n",
      "James 007\n",
      "Pistols\n",
      "Pistols\n"
     ]
    },
    {
     "ename": "AttributeError",
     "evalue": "'SpecialBox' object has no attribute '_SpecialBox__content'",
     "output_type": "error",
     "traceback": [
      "\u001b[1;31m---------------------------------------------------------------------------\u001b[0m",
      "\u001b[1;31mAttributeError\u001b[0m                            Traceback (most recent call last)",
      "Cell \u001b[1;32mIn[23], line 29\u001b[0m\n\u001b[0;32m     27\u001b[0m \u001b[38;5;28mprint\u001b[39m(secondBox\u001b[38;5;241m.\u001b[39mgetSuperContent())\n\u001b[0;32m     28\u001b[0m \u001b[38;5;28mprint\u001b[39m(secondBox\u001b[38;5;241m.\u001b[39mgetContent())\n\u001b[1;32m---> 29\u001b[0m \u001b[38;5;28mprint\u001b[39m(\u001b[43msecondBox\u001b[49m\u001b[38;5;241;43m.\u001b[39;49m\u001b[43mgetOwnContent\u001b[49m\u001b[43m(\u001b[49m\u001b[43m)\u001b[49m)\n\u001b[0;32m     30\u001b[0m \u001b[38;5;66;03m# print(secondBox.__content)\u001b[39;00m\n",
      "Cell \u001b[1;32mIn[23], line 15\u001b[0m, in \u001b[0;36mSpecialBox.getOwnContent\u001b[1;34m(self)\u001b[0m\n\u001b[0;32m     14\u001b[0m \u001b[38;5;28;01mdef\u001b[39;00m \u001b[38;5;21mgetOwnContent\u001b[39m(\u001b[38;5;28mself\u001b[39m):\n\u001b[1;32m---> 15\u001b[0m      \u001b[38;5;28;01mreturn\u001b[39;00m \u001b[38;5;28;43mself\u001b[39;49m\u001b[38;5;241;43m.\u001b[39;49m\u001b[43m__content\u001b[49m\n",
      "\u001b[1;31mAttributeError\u001b[0m: 'SpecialBox' object has no attribute '_SpecialBox__content'"
     ]
    }
   ],
   "source": [
    "class SafeBox:\n",
    "    def __init__(self, owner, code, content) -> None:\n",
    "        self.owner = owner\n",
    "        self._code = code\n",
    "        self.__content = content\n",
    "\n",
    "    def getContent(self):\n",
    "        return self.__content\n",
    "\n",
    "class SpecialBox(SafeBox):\n",
    "    def __init__(self, owner, code, content) -> None:\n",
    "        super().__init__(owner, code, content)\n",
    "\n",
    "    def getOwnContent(self):\n",
    "         return self.__content\n",
    "    \n",
    "    def getSuperContent(self):\n",
    "        return super().getContent()\n",
    "\n",
    "firstBox = SafeBox('James','007','Pistols')\n",
    "secondBox = SpecialBox('James','007','Pistols')\n",
    "print(firstBox.owner, firstBox._code)\n",
    "print(firstBox.getContent())\n",
    "# print(firstBox.__content)\n",
    "\n",
    "print(secondBox.owner, secondBox._code)\n",
    "print(secondBox.getSuperContent())\n",
    "print(secondBox.getContent())\n",
    "print(secondBox.getOwnContent())\n",
    "# print(secondBox.__content)"
   ]
  }
 ],
 "metadata": {
  "kernelspec": {
   "display_name": "Python 3",
   "language": "python",
   "name": "python3"
  },
  "language_info": {
   "codemirror_mode": {
    "name": "ipython",
    "version": 3
   },
   "file_extension": ".py",
   "mimetype": "text/x-python",
   "name": "python",
   "nbconvert_exporter": "python",
   "pygments_lexer": "ipython3",
   "version": "3.12.6"
  }
 },
 "nbformat": 4,
 "nbformat_minor": 2
}
