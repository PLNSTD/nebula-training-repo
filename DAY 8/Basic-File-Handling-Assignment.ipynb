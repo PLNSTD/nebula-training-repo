{
 "cells": [
  {
   "cell_type": "markdown",
   "metadata": {},
   "source": [
    "# Basic File Handling Assignment\n",
    "\n",
    "- **Task 1.1**: Create a list named `favorite_movies` with elements representing your favorite movies. Then, write this list to a file named `movies.txt` using the `open()` function with write mode (`'w'`). Ensure each movie is on its own line. Finally, read back the contents from `movies.txt` and print them to verify. Implement this in the Python code block below.\n"
   ]
  },
  {
   "cell_type": "code",
   "execution_count": 1,
   "metadata": {},
   "outputs": [
    {
     "name": "stdout",
     "output_type": "stream",
     "text": [
      "Movie A\n",
      "Movie B\n",
      "Movie C\n"
     ]
    }
   ],
   "source": [
    "favorite_movies = ['Movie A', 'Movie B', 'Movie C']\n",
    "# Write favorite_movies to movies.txt\n",
    "with open('movies.txt','w') as file:\n",
    "    file.write('\\n'.join(favorite_movies))\n",
    "# Read from movies.txt and print contents\n",
    "with open('movies.txt','r') as file:\n",
    "    content = file.read()\n",
    "    print(content)"
   ]
  },
  {
   "cell_type": "markdown",
   "metadata": {},
   "source": [
    "- **Task 1.2**: Check if a file named `notes.txt` exists. If it does, append a new note saying \"New note appended.\" If it does not exist, create the file and add a note saying \"First note added.\" Use the `os` module to check the file existence and the `open()` function with appropriate mode for file operations. Write your code in the block below."
   ]
  },
  {
   "cell_type": "code",
   "execution_count": 4,
   "metadata": {},
   "outputs": [
    {
     "name": "stdout",
     "output_type": "stream",
     "text": [
      "File exists\n",
      "First note added.\n",
      "New note appended.\n"
     ]
    }
   ],
   "source": [
    "import os\n",
    "# Check if notes.txt exists and append or create and add note accordingly\n",
    "file_name = 'notes.txt'\n",
    "if os.path.exists(file_name):\n",
    "    print('File exists')\n",
    "    with open(file_name, 'a') as file:\n",
    "        file.write('\\nNew note appended.')\n",
    "else:\n",
    "    print('File does not exist')\n",
    "    with open(file_name, 'w') as file:\n",
    "        file.write('First note added.')\n",
    "\n",
    "with open(file_name, 'r') as file:\n",
    "    content = file.read()\n",
    "    print(content)"
   ]
  },
  {
   "cell_type": "markdown",
   "metadata": {},
   "source": [
    "- **Task 2.1**: Using the `with` statement, open `movies.txt` and append another movie name to the list. Then, read back and print the updated contents. This ensures the file is automatically closed after the block of code is executed. Execute your task in the code block below."
   ]
  },
  {
   "cell_type": "code",
   "execution_count": 6,
   "metadata": {},
   "outputs": [
    {
     "name": "stdout",
     "output_type": "stream",
     "text": [
      "Movie X\n"
     ]
    }
   ],
   "source": [
    "# Append another movie to movies.txt using the with statement\n",
    "file_name = 'movies.txt'\n",
    "with open(file_name, 'w') as file:\n",
    "    file.write('Movie X')\n",
    "# Read and print updated contents\n",
    "with open(file_name, 'r') as file:\n",
    "    content = file.read()\n",
    "    print(content)"
   ]
  },
  {
   "cell_type": "markdown",
   "metadata": {},
   "source": [
    "- **Task 2.2**: Use the `os.path.exists()` function to check if `notes.txt` exists. If it does, print \"File exists.\" If not, print \"File does not exist.\" This demonstrates how to check for a file's existence before attempting to perform operations on it. Implement your code in the Python block below."
   ]
  },
  {
   "cell_type": "code",
   "execution_count": 7,
   "metadata": {},
   "outputs": [
    {
     "name": "stdout",
     "output_type": "stream",
     "text": [
      "File exists\n"
     ]
    }
   ],
   "source": [
    "# Check for the existence of notes.txt and print appropriate message\n",
    "file_name = 'notes.txt'\n",
    "if os.path.exists(file_name):\n",
    "    print('File exists')\n",
    "else:\n",
    "    print('File does not exists')"
   ]
  },
  {
   "cell_type": "markdown",
   "metadata": {},
   "source": [
    "- **Task 3.1**: Demonstrate directory management by creating a new directory named `my_directory` and then removing it. Use the `os.mkdir()` function to create the directory and `os.rmdir()` to remove it. Make sure to check if the directory exists before trying to remove it to avoid errors. Code your solution in the block below."
   ]
  },
  {
   "cell_type": "code",
   "execution_count": 17,
   "metadata": {},
   "outputs": [
    {
     "name": "stdout",
     "output_type": "stream",
     "text": [
      "Directory does NOT exists\n",
      "Added\n"
     ]
    }
   ],
   "source": [
    "# Create and then remove my_directory\n",
    "dir_name = 'my_directory'\n",
    "if os.path.isdir(dir_name):\n",
    "    print('Directory exists')\n",
    "    os.rmdir(dir_name)\n",
    "    print('Removed' if not os.path.isdir(dir_name) else 'Could not remove dir')\n",
    "else:\n",
    "    print('Directory does NOT exists')\n",
    "    os.mkdir(dir_name)\n",
    "    print('Added' if os.path.isdir(dir_name) else 'Could not create dir')\n"
   ]
  }
 ],
 "metadata": {
  "kernelspec": {
   "display_name": "Python 3",
   "language": "python",
   "name": "python3"
  },
  "language_info": {
   "codemirror_mode": {
    "name": "ipython",
    "version": 3
   },
   "file_extension": ".py",
   "mimetype": "text/x-python",
   "name": "python",
   "nbconvert_exporter": "python",
   "pygments_lexer": "ipython3",
   "version": "3.12.6"
  }
 },
 "nbformat": 4,
 "nbformat_minor": 2
}
