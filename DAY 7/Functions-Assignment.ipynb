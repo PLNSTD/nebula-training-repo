{
 "cells": [
  {
   "cell_type": "markdown",
   "metadata": {},
   "source": [
    "### **Functions in Python Assignment**\n",
    "\n",
    "## **Exercise 1: Defining and Calling Functions**\n",
    "\n",
    "Demonstrate your understanding of how to define and call functions in Python.\n",
    "\n",
    "* **Task 1.1:** Define a function named `square` that takes one parameter, `number`, and returns the square of that number. Call the function with a number of your choice and print the result.\n"
   ]
  },
  {
   "cell_type": "code",
   "execution_count": 1,
   "metadata": {},
   "outputs": [
    {
     "name": "stdout",
     "output_type": "stream",
     "text": [
      "4\n"
     ]
    }
   ],
   "source": [
    "def square(number):\n",
    "    return pow(number,2)\n",
    "\n",
    "print(square(2))"
   ]
  },
  {
   "cell_type": "markdown",
   "metadata": {},
   "source": [
    "\n",
    "* **Task 1.2:** Create a function called `say_hello` that takes no parameters and simply prints `\"Hello, Python!\"` when called.\n"
   ]
  },
  {
   "cell_type": "code",
   "execution_count": 3,
   "metadata": {},
   "outputs": [
    {
     "name": "stdout",
     "output_type": "stream",
     "text": [
      "Hello, Python!\n"
     ]
    }
   ],
   "source": [
    "def say_hello():\n",
    "    print('Hello, Python!')\n",
    "\n",
    "say_hello()"
   ]
  },
  {
   "cell_type": "markdown",
   "metadata": {},
   "source": [
    "\n",
    "## **Exercise 2: Working with Parameters and Return Values**\n",
    "\n",
    "Explore function parameters, arguments, and the importance of return values.\n",
    "\n",
    "* **Task 2.1:** Write a function named `add` that takes two parameters, `a` and `b`, adds them together, and returns the result. Call the function with two numbers as arguments and print the result."
   ]
  },
  {
   "cell_type": "code",
   "execution_count": 4,
   "metadata": {},
   "outputs": [
    {
     "name": "stdout",
     "output_type": "stream",
     "text": [
      "12\n"
     ]
    }
   ],
   "source": [
    "def add(a, b):\n",
    "    return a + b\n",
    "\n",
    "print(add(5,7))"
   ]
  },
  {
   "cell_type": "markdown",
   "metadata": {},
   "source": [
    "\n",
    "* **Task 2.2:** Define a function called `is_even` that takes a single parameter, `num`, and returns `True` if the number is even, and `False` otherwise. Demonstrate its use by printing the result of a call with an even and an odd number.\n"
   ]
  },
  {
   "cell_type": "code",
   "execution_count": 5,
   "metadata": {},
   "outputs": [
    {
     "name": "stdout",
     "output_type": "stream",
     "text": [
      "False\n"
     ]
    }
   ],
   "source": [
    "def is_even(num):\n",
    "    return num % 2 == 0\n",
    "\n",
    "print(is_even(3))"
   ]
  },
  {
   "cell_type": "markdown",
   "metadata": {},
   "source": [
    "\n",
    "## **Exercise 3: Default Parameters and Keyword Arguments**\n",
    "\n",
    "Understand how to use default parameters and keyword arguments in function calls.\n",
    "\n",
    "* **Task 3.1:** Define a function `greet_user` with one parameter, `name`, with a default value of `\"Guest\"`. The function should print a greeting message using the name. Call the function twice: first, without any arguments, and second, with a name of your choice.\n"
   ]
  },
  {
   "cell_type": "code",
   "execution_count": 20,
   "metadata": {},
   "outputs": [
    {
     "name": "stdout",
     "output_type": "stream",
     "text": [
      "Hello Guest, welcome!\n",
      "Hello User, welcome!\n"
     ]
    }
   ],
   "source": [
    "def greet_user(name='Guest'):\n",
    "    print(f'Hello {name}, welcome!')\n",
    "\n",
    "greet_user()\n",
    "greet_user('User')"
   ]
  },
  {
   "cell_type": "markdown",
   "metadata": {},
   "source": [
    "\n",
    "* **Task 3.2:** Create a function named `describe_animal` with two parameters: `animal_type` and `pet_name`. Print a description of the animal using these parameters. Call this function using keyword arguments to specify the name and type of your pet or a fictional animal.\n"
   ]
  },
  {
   "cell_type": "code",
   "execution_count": 8,
   "metadata": {},
   "outputs": [
    {
     "name": "stdout",
     "output_type": "stream",
     "text": [
      "Hi, I have an dog. It's name is Steven\n"
     ]
    }
   ],
   "source": [
    "def describe_animal(animal_type, pet_name):\n",
    "    print(f'Hi, I have a {animal_type}. It\\'s name is {pet_name}')\n",
    "\n",
    "describe_animal('dog','Steven')"
   ]
  },
  {
   "cell_type": "markdown",
   "metadata": {},
   "source": [
    "\n",
    "## **Additional Challenges**\n",
    "\n",
    "For more advanced practice:\n",
    "\n",
    "* **Challenge 1:** Write a function `max_of_three` that takes three numbers as arguments and returns the largest of them. Ensure your function works for a set of any three numbers."
   ]
  },
  {
   "cell_type": "code",
   "execution_count": 21,
   "metadata": {},
   "outputs": [
    {
     "name": "stdout",
     "output_type": "stream",
     "text": [
      "10\n"
     ]
    }
   ],
   "source": [
    "def max_of_three(numbers):\n",
    "    return max(numbers)\n",
    "\n",
    "print(max_of_three([1,10,3]))"
   ]
  },
  {
   "cell_type": "markdown",
   "metadata": {},
   "source": [
    "\n",
    "* **Challenge 2:** Implement a function `concat_strings` that takes an arbitrary number of strings (using `*args`) and concatenates them into a single string separated by spaces. Test your function with multiple strings."
   ]
  },
  {
   "cell_type": "code",
   "execution_count": 22,
   "metadata": {},
   "outputs": [
    {
     "name": "stdout",
     "output_type": "stream",
     "text": [
      "Hi it's me...\n",
      "Hi it's me... , MARIO!\n"
     ]
    }
   ],
   "source": [
    "def concat_strings(*args):\n",
    "    print(' '.join(args))\n",
    "\n",
    "concat_strings('Hi','it\\'s','me...')\n",
    "concat_strings('Hi','it\\'s','me...',',','MARIO!')"
   ]
  },
  {
   "cell_type": "markdown",
   "metadata": {},
   "source": [
    "\n",
    "---\n",
    "\n",
    "### **Submission Guidelines**\n",
    "\n",
    "Please submit a Python file (.py) containing the implementations of all the tasks and challenges. Make sure your code is well-commented to explain the functionality of each function. Happy coding!"
   ]
  }
 ],
 "metadata": {
  "kernelspec": {
   "display_name": "Python 3",
   "language": "python",
   "name": "python3"
  },
  "language_info": {
   "codemirror_mode": {
    "name": "ipython",
    "version": 3
   },
   "file_extension": ".py",
   "mimetype": "text/x-python",
   "name": "python",
   "nbconvert_exporter": "python",
   "pygments_lexer": "ipython3",
   "version": "3.12.6"
  }
 },
 "nbformat": 4,
 "nbformat_minor": 2
}
