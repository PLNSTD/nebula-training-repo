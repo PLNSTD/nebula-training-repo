{
 "cells": [
  {
   "cell_type": "markdown",
   "metadata": {},
   "source": [
    "## 6. 📦 Composition vs Inheritance\n",
    "\n",
    "Implement two classes:\n",
    "\n",
    "- `Box` with an attribute `contents` (a list).\n",
    "- `ColoredBox` that adds a `color` attribute.\n",
    "\n",
    "First, implement `ColoredBox` using inheritance from `Box`. Then, implement `ColoredBox` using composition by having a `Box` instance as an attribute.\n"
   ]
  },
  {
   "cell_type": "code",
   "execution_count": null,
   "metadata": {},
   "outputs": [],
   "source": [
    "class Box:\n",
    "    def __init__(self, content):\n",
    "        self.content = content\n",
    "    \n",
    "    def get_content(self):\n",
    "        return self.content\n",
    "\n",
    "class ColoredBox(Box):\n",
    "    def __init__(self, color):\n",
    "        super().__init__()\n",
    "        self.color = color\n",
    "    \n",
    "    def get_color(self):\n",
    "        return self.color"
   ]
  },
  {
   "cell_type": "markdown",
   "metadata": {},
   "source": [
    "\n",
    "## 7. 📋 Abstract Base Class\n",
    "\n",
    "Use the `abc` module to create an abstract base class `Shape` with an abstract method `area()`. Then, create subclasses `Circle` and `Rectangle` that implement the `area()` method.\n"
   ]
  },
  {
   "cell_type": "code",
   "execution_count": 4,
   "metadata": {},
   "outputs": [
    {
     "name": "stdout",
     "output_type": "stream",
     "text": [
      "Circle area is  28.274333882308138\n",
      "1\n",
      "Rectangle area is  12\n"
     ]
    }
   ],
   "source": [
    "from math import pi\n",
    "from abc import ABC, abstractmethod\n",
    "\n",
    "class Shape(ABC):\n",
    "\n",
    "  def __init__(self, a):\n",
    "    self.a = a\n",
    "\n",
    "  @abstractmethod\n",
    "  def area(self):\n",
    "    pass\n",
    "\n",
    "\n",
    "class Circle(Shape):\n",
    "\n",
    "  def __init__(self, radius):\n",
    "    super().__init__(1)\n",
    "    self.radius = radius\n",
    "\n",
    "  def area(self):\n",
    "    return pi*self.radius*self.radius \n",
    "\n",
    "class Rectangle(Shape):\n",
    "\n",
    "  def __init__(self, length, width):\n",
    "    self.length = length\n",
    "    self.width = width\n",
    "\n",
    "  def area(self):\n",
    "    return self.length*self.width\n",
    "\n",
    "my_circle = Circle(radius=3)\n",
    "print(\"Circle area is \",my_circle.area())\n",
    "\n",
    "print(my_circle.a)\n",
    "\n",
    "my_rect = Rectangle(length=3, width=4)\n",
    "print(\"Rectangle area is \",my_rect.area())"
   ]
  },
  {
   "cell_type": "markdown",
   "metadata": {},
   "source": [
    "## 8. 🌀 Dunder Methods\n",
    "\n",
    "Create a class `Vector` that represents a vector in 2D space with `x` and `y` coordinates. Implement dunder methods for vector addition `__add__`, string representation `__str__`, and equality comparison `__eq__`.\n"
   ]
  }
 ],
 "metadata": {
  "kernelspec": {
   "display_name": "Python 3",
   "language": "python",
   "name": "python3"
  },
  "language_info": {
   "codemirror_mode": {
    "name": "ipython",
    "version": 3
   },
   "file_extension": ".py",
   "mimetype": "text/x-python",
   "name": "python",
   "nbconvert_exporter": "python",
   "pygments_lexer": "ipython3",
   "version": "3.12.6"
  }
 },
 "nbformat": 4,
 "nbformat_minor": 2
}
