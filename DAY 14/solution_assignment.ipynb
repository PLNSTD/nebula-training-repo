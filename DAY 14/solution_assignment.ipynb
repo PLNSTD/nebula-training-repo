{
 "cells": [
  {
   "cell_type": "markdown",
   "metadata": {},
   "source": [
    "## 6. 📦 Composition vs Inheritance\n",
    "\n",
    "Implement two classes:\n",
    "\n",
    "- `Box` with an attribute `contents` (a list).\n",
    "- `ColoredBox` that adds a `color` attribute.\n",
    "\n",
    "First, implement `ColoredBox` using inheritance from `Box`. Then, implement `ColoredBox` using composition by having a `Box` instance as an attribute.\n"
   ]
  },
  {
   "cell_type": "code",
   "execution_count": null,
   "metadata": {},
   "outputs": [],
   "source": [
    "class Box:\n",
    "    def __init__(self, content):\n",
    "        self.content = content\n",
    "    \n",
    "    def get_content(self):\n",
    "        return self.content\n",
    "\n",
    "class ColoredBox(Box):\n",
    "    def __init__(self, color):\n",
    "        super().__init__()\n",
    "        self.color = color\n",
    "    \n",
    "    def get_color(self):\n",
    "        return self.color"
   ]
  },
  {
   "cell_type": "markdown",
   "metadata": {},
   "source": [
    "\n",
    "## 7. 📋 Abstract Base Class\n",
    "\n",
    "Use the `abc` module to create an abstract base class `Shape` with an abstract method `area()`. Then, create subclasses `Circle` and `Rectangle` that implement the `area()` method.\n"
   ]
  },
  {
   "cell_type": "code",
   "execution_count": 4,
   "metadata": {},
   "outputs": [
    {
     "name": "stdout",
     "output_type": "stream",
     "text": [
      "Circle area is  28.274333882308138\n",
      "1\n",
      "Rectangle area is  12\n"
     ]
    }
   ],
   "source": [
    "from math import pi\n",
    "from abc import ABC, abstractmethod\n",
    "\n",
    "class Shape(ABC):\n",
    "\n",
    "  def __init__(self, a):\n",
    "    self.a = a\n",
    "\n",
    "  @abstractmethod\n",
    "  def area(self):\n",
    "    pass\n",
    "\n",
    "\n",
    "class Circle(Shape):\n",
    "\n",
    "  def __init__(self, radius):\n",
    "    super().__init__(1)\n",
    "    self.radius = radius\n",
    "\n",
    "  def area(self):\n",
    "    return pi*self.radius*self.radius \n",
    "\n",
    "class Rectangle(Shape):\n",
    "\n",
    "  def __init__(self, length, width):\n",
    "    self.length = length\n",
    "    self.width = width\n",
    "\n",
    "  def area(self):\n",
    "    return self.length*self.width\n",
    "\n",
    "my_circle = Circle(radius=3)\n",
    "print(\"Circle area is \",my_circle.area())\n",
    "\n",
    "print(my_circle.a)\n",
    "\n",
    "my_rect = Rectangle(length=3, width=4)\n",
    "print(\"Rectangle area is \",my_rect.area())"
   ]
  },
  {
   "cell_type": "markdown",
   "metadata": {},
   "source": [
    "## 8. 🌀 Dunder Methods\n",
    "\n",
    "Create a class `Vector` that represents a vector in 2D space with `x` and `y` coordinates. Implement dunder methods for vector addition `__add__`, string representation `__str__`, and equality comparison `__eq__`.\n"
   ]
  },
  {
   "cell_type": "code",
   "execution_count": 16,
   "metadata": {},
   "outputs": [
    {
     "name": "stdout",
     "output_type": "stream",
     "text": [
      "True\n",
      "--MATRIX--\n",
      "[2, 2]\n",
      "[2, 2]\n",
      "--MATRIX--\n",
      "[1, 1]\n",
      "[1, 1]\n"
     ]
    }
   ],
   "source": [
    "class Vector:\n",
    "\n",
    "  def __init__(self, x, y):\n",
    "    self.matrix = [[0] * x] * y\n",
    "    self.x = x\n",
    "    self.y = y\n",
    "\n",
    "  def set_matrix(self, matrix):\n",
    "    self.matrix = matrix\n",
    "\n",
    "  def __add__(self, vec2):\n",
    "    res = []\n",
    "    for i in range(self.x):\n",
    "      res.append([])\n",
    "      for j in range(self.y):\n",
    "        res[-1].append(self.matrix[i][j] + vec2.matrix[i][j])\n",
    "    \n",
    "    output = Vector(self.x, self.y)\n",
    "    output.set_matrix(res)\n",
    "    return output\n",
    "  \n",
    "  def __str__(self):\n",
    "    print('--MATRIX--')\n",
    "    return '\\n'.join(str(self.matrix[i]) for i in range(self.x))\n",
    "  \n",
    "  def __eq__(self, vec2):\n",
    "    if not isinstance(vec2, Vector) or self.x != vec2.x or self.y != vec2.y:\n",
    "      return False\n",
    "    \n",
    "    for i in range(self.x):\n",
    "      for j in range(self.y):\n",
    "        if self.matrix[i][j] != vec2.matrix[i][j]:\n",
    "          return False\n",
    "    \n",
    "    return True\n",
    "\n",
    "\n",
    "\n",
    "vec1 = Vector(2,2)\n",
    "vec1.matrix = [[1,1],[1,1]]\n",
    "vec2 = Vector(2,2)\n",
    "vec2.matrix = [[1,1],[1,1]]\n",
    "print(vec1 == vec2)\n",
    "print(vec1 + vec2)\n",
    "print(vec1)"
   ]
  },
  {
   "cell_type": "markdown",
   "metadata": {},
   "source": [
    "## 9. 🚗 Car Class Hierarchy\n",
    "\n",
    "Create a class hierarchy for vehicles:\n",
    "\n",
    "- Base class `Vehicle` with attributes `make` and `model`\n",
    "- Subclass `Car` with attribute `num_doors`\n",
    "- Subclass `Truck` with attribute `payload_capacity`\n",
    "\n",
    "Instantiate objects of `Car` and `Truck`, and demonstrate how they inherit from `Vehicle`."
   ]
  },
  {
   "cell_type": "code",
   "execution_count": null,
   "metadata": {},
   "outputs": [],
   "source": [
    "class Vehicle:\n",
    "    def __init__(self, make, model) -> None:\n",
    "        self.make = make\n",
    "        self.model = model\n",
    "        self.check_engine = 'Off'\n",
    "    \n",
    "    def start_engine(self):\n",
    "        self.check_engine = 'ON'\n",
    "        print(f'The engine is {self.check_engine}')\n",
    "\n",
    "class Car(Vehicle):\n",
    "    def __init__(self, make, model, num_doors) -> None:\n",
    "        super().__init__(make, model)\n",
    "        self.num_doors = num_doors\n",
    "\n",
    "class Truck(Vehicle):\n",
    "    def __init__(self, make, model, payload_capacity) -> None:\n",
    "        super().__init__(make, model)\n",
    "        self.payload_capacity = payload_capacity\n",
    "    \n",
    "my_car = Car('Tesla', 'Model X', 4)\n",
    "my_truck = Truck('Ford', 'F-250', 400)"
   ]
  },
  {
   "cell_type": "markdown",
   "metadata": {},
   "source": [
    "## 10. ⚡ Electric Vehicle Extension\n",
    "\n",
    "Extend the `Car` class to create an `ElectricCar` subclass with an attribute `battery_capacity`. Override the `start_engine` method to indicate that the car is powered on silently.\n"
   ]
  },
  {
   "cell_type": "code",
   "execution_count": null,
   "metadata": {},
   "outputs": [],
   "source": [
    "class ElectricCar(Car):\n",
    "    def __init__(self, model, make, num_doors, battery_capacity):\n",
    "        super().__init__(make, model, num_doors)\n",
    "        self.battery_capacity = battery_capacity\n",
    "    \n",
    "    def start_engine(self):\n",
    "        self.check_engine = 'On'\n",
    "        print(f'The engine is silently {self.check_engine}')"
   ]
  }
 ],
 "metadata": {
  "kernelspec": {
   "display_name": "Python 3",
   "language": "python",
   "name": "python3"
  },
  "language_info": {
   "codemirror_mode": {
    "name": "ipython",
    "version": 3
   },
   "file_extension": ".py",
   "mimetype": "text/x-python",
   "name": "python",
   "nbconvert_exporter": "python",
   "pygments_lexer": "ipython3",
   "version": "3.12.6"
  }
 },
 "nbformat": 4,
 "nbformat_minor": 2
}
