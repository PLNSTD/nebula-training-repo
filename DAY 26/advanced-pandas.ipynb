{
    "cells": [
        {
            "cell_type": "markdown",
            "metadata": {},
            "source": [
                "# 🚀 **Advanced Data Analysis Assignment**\n",
                "\n",
                "Welcome to the next-level assignment! We’ll build on the two previous datasets:\n",
                "1. A **region-based** dataset containing `Region`, `Sales`, and `Transactions`.\n",
                "2. A **time-series** dataset containing daily `Sales` from 2020-01-01 to 2020-12-31.\n",
                "\n",
                "In this notebook, you will:\n",
                "1. Load and explore both datasets.\n",
                "2. Perform advanced grouping and pivoting on the regional data.\n",
                "3. Check correlations and detect potential outliers.\n",
                "4. Conduct advanced time-series analysis (rolling means & seasonal decomposition).\n",
                "5. Provide concise insights from your findings.\n",
                "\n",
                "Let's get started! 🎉\n"
            ]
        },
        {
            "cell_type": "markdown",
            "metadata": {},
            "source": [
                "## 🧩 **Part A: Advanced Analysis on Regional Sales Data**\n",
                "We'll begin by re-generating (or reloading) the regional sales data from your previous assignment."
            ]
        },
        {
            "cell_type": "code",
            "execution_count": 2,
            "metadata": {},
            "outputs": [
                {
                    "data": {
                        "text/html": [
                            "<div>\n",
                            "<style scoped>\n",
                            "    .dataframe tbody tr th:only-of-type {\n",
                            "        vertical-align: middle;\n",
                            "    }\n",
                            "\n",
                            "    .dataframe tbody tr th {\n",
                            "        vertical-align: top;\n",
                            "    }\n",
                            "\n",
                            "    .dataframe thead th {\n",
                            "        text-align: right;\n",
                            "    }\n",
                            "</style>\n",
                            "<table border=\"1\" class=\"dataframe\">\n",
                            "  <thead>\n",
                            "    <tr style=\"text-align: right;\">\n",
                            "      <th></th>\n",
                            "      <th>Region</th>\n",
                            "      <th>Sales</th>\n",
                            "      <th>Transactions</th>\n",
                            "    </tr>\n",
                            "  </thead>\n",
                            "  <tbody>\n",
                            "    <tr>\n",
                            "      <th>0</th>\n",
                            "      <td>North</td>\n",
                            "      <td>570.196770</td>\n",
                            "      <td>29</td>\n",
                            "    </tr>\n",
                            "    <tr>\n",
                            "      <th>1</th>\n",
                            "      <td>West</td>\n",
                            "      <td>438.601513</td>\n",
                            "      <td>3</td>\n",
                            "    </tr>\n",
                            "    <tr>\n",
                            "      <th>2</th>\n",
                            "      <td>South</td>\n",
                            "      <td>988.373838</td>\n",
                            "      <td>28</td>\n",
                            "    </tr>\n",
                            "    <tr>\n",
                            "      <th>3</th>\n",
                            "      <td>North</td>\n",
                            "      <td>102.044811</td>\n",
                            "      <td>84</td>\n",
                            "    </tr>\n",
                            "    <tr>\n",
                            "      <th>4</th>\n",
                            "      <td>West</td>\n",
                            "      <td>208.876756</td>\n",
                            "      <td>90</td>\n",
                            "    </tr>\n",
                            "  </tbody>\n",
                            "</table>\n",
                            "</div>"
                        ],
                        "text/plain": [
                            "  Region       Sales  Transactions\n",
                            "0  North  570.196770            29\n",
                            "1   West  438.601513             3\n",
                            "2  South  988.373838            28\n",
                            "3  North  102.044811            84\n",
                            "4   West  208.876756            90"
                        ]
                    },
                    "execution_count": 2,
                    "metadata": {},
                    "output_type": "execute_result"
                }
            ],
            "source": [
                "# === Part A: Data Generation (Regional) ===\n",
                "import pandas as pd\n",
                "import numpy as np\n",
                "\n",
                "# Seed for reproducibility\n",
                "np.random.seed(0)\n",
                "\n",
                "# Generate random data\n",
                "data_regional = {\n",
                "    'Region': np.random.choice(['North', 'South', 'East', 'West'], size=100),\n",
                "    'Sales': np.random.rand(100) * 1000,  # Sales figures between 0 and 1000\n",
                "    'Transactions': np.random.randint(1, 100, size=100)  # Transactions between 1 and 100\n",
                "}\n",
                "\n",
                "# Create DataFrame\n",
                "df_regional = pd.DataFrame(data_regional)\n",
                "df_regional.head()"
            ]
        },
        {
            "cell_type": "markdown",
            "metadata": {},
            "source": [
                "### 🔍 **Task A1: Exploratory Data Analysis**\n",
                "1. Display basic summary statistics for `Sales` and `Transactions`.\n",
                "2. Identify the number of unique regions.\n",
                "3. Check for any missing values.\n"
            ]
        },
        {
            "cell_type": "code",
            "execution_count": 3,
            "metadata": {
                "tags": []
            },
            "outputs": [
                {
                    "name": "stdout",
                    "output_type": "stream",
                    "text": [
                        "            Sales  Transactions\n",
                        "count  100.000000    100.000000\n",
                        "mean   496.438899     48.440000\n",
                        "std    283.716158     28.051655\n",
                        "min      4.695476      1.000000\n",
                        "25%    262.365019     28.750000\n",
                        "50%    544.924754     44.500000\n",
                        "75%    700.581602     72.500000\n",
                        "max    998.847007     98.000000\n",
                        "\n",
                        "Number of unique regions: 4\n",
                        "\n",
                        "Missing values:\n",
                        "Region          0\n",
                        "Sales           0\n",
                        "Transactions    0\n",
                        "dtype: int64\n"
                    ]
                }
            ],
            "source": [
                "# === SOLUTION for Task A1 ===\n",
                "\n",
                "# 1) Basic summary statistics\n",
                "print(df_regional.describe())\n",
                "# 2) Number of unique regions\n",
                "print('\\nNumber of unique regions:', len(pd.unique(df_regional['Region'])))\n",
                "# 3) Check for missing values\n",
                "missing_count = df_regional.isnull().sum()\n",
                "\n",
                "print('\\nMissing values:')\n",
                "print(missing_count)"
            ]
        },
        {
            "cell_type": "markdown",
            "metadata": {},
            "source": [
                "### 💹 **Task A2: Pivot Table & Group Analysis**\n",
                "1. Create a pivot table showing the **average Sales** and **average Transactions** by `Region`.\n",
                "2. Sort the pivot table by the highest average Sales.\n"
            ]
        },
        {
            "cell_type": "code",
            "execution_count": 4,
            "metadata": {
                "tags": []
            },
            "outputs": [
                {
                    "name": "stdout",
                    "output_type": "stream",
                    "text": [
                        "             Sales  Transactions\n",
                        "Region                          \n",
                        "East    564.093444     43.684211\n",
                        "North   515.117684     47.320000\n",
                        "South   466.730246     44.708333\n",
                        "West    463.957703     54.937500\n"
                    ]
                }
            ],
            "source": [
                "# === SOLUTION for Task A2 ===\n",
                "# Sort by highest average Sales\n",
                "regions_avg = df_regional[['Region', 'Sales', 'Transactions']].groupby('Region').mean()\n",
                "pivot_df = df_regional.pivot_table(\n",
                "    index='Region',\n",
                "    values=['Sales', 'Transactions'],\n",
                "    aggfunc='mean'\n",
                ")\n",
                "print(pivot_df)"
            ]
        },
        {
            "cell_type": "markdown",
            "metadata": {},
            "source": [
                "### ⚗️ **Task A3: Correlation & Outlier Detection** ⚠️ Optional Challenge\n",
                "1. Calculate the correlation between `Sales` and `Transactions`. Do they appear to be correlated?\n",
                "2. Detect potential outliers in `Sales` using the **IQR** (Interquartile Range) method.\n"
            ]
        },
        {
            "cell_type": "code",
            "execution_count": 6,
            "metadata": {
                "tags": []
            },
            "outputs": [
                {
                    "name": "stdout",
                    "output_type": "stream",
                    "text": [
                        "Correlation between Sales and Transactions: -0.017727723478534588\n",
                        "Interquartile Range (IQR):  438.2165835336902\n",
                        "Lower Bound:  -394.9598564610057\n",
                        "Upper Bound:  1357.906477673755\n",
                        "\n",
                        "Number of outliers in 'Sales':  0\n"
                    ]
                },
                {
                    "data": {
                        "text/html": [
                            "<div>\n",
                            "<style scoped>\n",
                            "    .dataframe tbody tr th:only-of-type {\n",
                            "        vertical-align: middle;\n",
                            "    }\n",
                            "\n",
                            "    .dataframe tbody tr th {\n",
                            "        vertical-align: top;\n",
                            "    }\n",
                            "\n",
                            "    .dataframe thead th {\n",
                            "        text-align: right;\n",
                            "    }\n",
                            "</style>\n",
                            "<table border=\"1\" class=\"dataframe\">\n",
                            "  <thead>\n",
                            "    <tr style=\"text-align: right;\">\n",
                            "      <th></th>\n",
                            "      <th>Region</th>\n",
                            "      <th>Sales</th>\n",
                            "      <th>Transactions</th>\n",
                            "    </tr>\n",
                            "  </thead>\n",
                            "  <tbody>\n",
                            "  </tbody>\n",
                            "</table>\n",
                            "</div>"
                        ],
                        "text/plain": [
                            "Empty DataFrame\n",
                            "Columns: [Region, Sales, Transactions]\n",
                            "Index: []"
                        ]
                    },
                    "execution_count": 6,
                    "metadata": {},
                    "output_type": "execute_result"
                }
            ],
            "source": [
                "# === SOLUTION for Task A3 ===\n",
                "# 1) Correlation\n",
                "corr_value = df_regional['Sales'].corr(df_regional['Transactions'])\n",
                "print(\"Correlation between Sales and Transactions:\", corr_value)\n",
                "\n",
                "# 2) Outlier Detection using IQR\n",
                "Q1 = df_regional['Sales'].quantile(0.25)\n",
                "Q3 = df_regional['Sales'].quantile(0.75)\n",
                "IQR = Q3 - Q1\n",
                "lower_bound = Q1 - 1.5 * IQR\n",
                "upper_bound = Q3 + 1.5 * IQR\n",
                "print(\"Interquartile Range (IQR): \", IQR)\n",
                "print(\"Lower Bound: \", lower_bound)\n",
                "print(\"Upper Bound: \", upper_bound)\n",
                "\n",
                "outliers = df_regional[(df_regional['Sales'] < lower_bound) | (df_regional['Sales'] > upper_bound)]\n",
                "print(\"\\nNumber of outliers in 'Sales': \", len(outliers))\n",
                "outliers\n"
            ]
        },
        {
            "cell_type": "markdown",
            "metadata": {},
            "source": [
                "---\n",
                "## 📈 **Part B: Advanced Time-Series Analysis**\n",
                "Now let's work with the **time-series** dataset from your second assignment. We'll generate (or reload) the data below."
            ]
        },
        {
            "cell_type": "code",
            "execution_count": 94,
            "metadata": {
                "tags": []
            },
            "outputs": [],
            "source": [
                "# === Part B: Data Generation (Time-Series) ===\n",
                "dates = pd.date_range(start=\"2020-01-01\", end=\"2020-12-31\", freq=\"D\")\n",
                "data_timeseries = {\n",
                "    \"Date\": dates,\n",
                "    \"Sales\": (\n",
                "        np.random.rand(len(dates)) * 200\n",
                "        + np.sin(np.linspace(-3, 3, len(dates))) * 50\n",
                "        + 100\n",
                "    ),\n",
                "}\n",
                "\n",
                "df_timeseries = pd.DataFrame(data_timeseries)\n",
                "# df_timeseries.set_index(\"Date\", inplace=True)"
            ]
        },
        {
            "cell_type": "markdown",
            "metadata": {},
            "source": [
                "### 🔎 **Task B1: Quick Exploration**\n",
                "1. Display the first 5 rows.\n",
                "2. Show a statistical summary of the `Sales` column."
            ]
        },
        {
            "cell_type": "code",
            "execution_count": 11,
            "metadata": {
                "tags": []
            },
            "outputs": [
                {
                    "data": {
                        "text/html": [
                            "<div>\n",
                            "<style scoped>\n",
                            "    .dataframe tbody tr th:only-of-type {\n",
                            "        vertical-align: middle;\n",
                            "    }\n",
                            "\n",
                            "    .dataframe tbody tr th {\n",
                            "        vertical-align: top;\n",
                            "    }\n",
                            "\n",
                            "    .dataframe thead th {\n",
                            "        text-align: right;\n",
                            "    }\n",
                            "</style>\n",
                            "<table border=\"1\" class=\"dataframe\">\n",
                            "  <thead>\n",
                            "    <tr style=\"text-align: right;\">\n",
                            "      <th></th>\n",
                            "      <th>Date</th>\n",
                            "      <th>Sales</th>\n",
                            "    </tr>\n",
                            "  </thead>\n",
                            "  <tbody>\n",
                            "    <tr>\n",
                            "      <th>0</th>\n",
                            "      <td>2020-01-01</td>\n",
                            "      <td>184.146924</td>\n",
                            "    </tr>\n",
                            "    <tr>\n",
                            "      <th>1</th>\n",
                            "      <td>2020-01-02</td>\n",
                            "      <td>273.414915</td>\n",
                            "    </tr>\n",
                            "    <tr>\n",
                            "      <th>2</th>\n",
                            "      <td>2020-01-03</td>\n",
                            "      <td>118.764805</td>\n",
                            "    </tr>\n",
                            "    <tr>\n",
                            "      <th>3</th>\n",
                            "      <td>2020-01-04</td>\n",
                            "      <td>136.356354</td>\n",
                            "    </tr>\n",
                            "    <tr>\n",
                            "      <th>4</th>\n",
                            "      <td>2020-01-05</td>\n",
                            "      <td>266.023902</td>\n",
                            "    </tr>\n",
                            "  </tbody>\n",
                            "</table>\n",
                            "</div>"
                        ],
                        "text/plain": [
                            "        Date       Sales\n",
                            "0 2020-01-01  184.146924\n",
                            "1 2020-01-02  273.414915\n",
                            "2 2020-01-03  118.764805\n",
                            "3 2020-01-04  136.356354\n",
                            "4 2020-01-05  266.023902"
                        ]
                    },
                    "execution_count": 11,
                    "metadata": {},
                    "output_type": "execute_result"
                }
            ],
            "source": [
                "# === SOLUTION for Task B1 ===\n",
                "# 1) Display first 5 rows of df_timeseries\n",
                "df_timeseries.head()"
            ]
        },
        {
            "cell_type": "code",
            "execution_count": 42,
            "metadata": {
                "tags": []
            },
            "outputs": [
                {
                    "data": {
                        "text/plain": [
                            "count    366.000000\n",
                            "mean     203.849782\n",
                            "std       68.809135\n",
                            "min       50.719030\n",
                            "25%      153.098856\n",
                            "50%      199.144675\n",
                            "75%      251.609671\n",
                            "max      346.521878\n",
                            "Name: Sales, dtype: float64"
                        ]
                    },
                    "execution_count": 42,
                    "metadata": {},
                    "output_type": "execute_result"
                }
            ],
            "source": [
                "# 2) Statistical summary of the 'Sales' column\n",
                "df_timeseries['Sales'].describe()"
            ]
        },
        {
            "cell_type": "markdown",
            "metadata": {},
            "source": [
                "### 📆 **Task B2: Monthly & Rolling Analysis**\n",
                "1. Calculate monthly average `Sales`.\n",
                "2. Compute a 7-day rolling average to smooth out short-term fluctuations.\n"
            ]
        },
        {
            "cell_type": "code",
            "execution_count": 96,
            "metadata": {
                "tags": []
            },
            "outputs": [
                {
                    "name": "stdout",
                    "output_type": "stream",
                    "text": [
                        "Date\n",
                        "2020-01-31    176.799319\n",
                        "2020-02-29    162.284615\n",
                        "2020-03-31    133.045222\n",
                        "2020-04-30    154.459183\n",
                        "2020-05-31    189.133565\n",
                        "2020-06-30    197.910887\n",
                        "2020-07-31    216.853578\n",
                        "2020-08-31    233.917748\n",
                        "2020-09-30    241.831597\n",
                        "2020-10-31    256.118151\n",
                        "2020-11-30    224.213604\n",
                        "2020-12-31    242.393320\n",
                        "Freq: ME, Name: Sales, dtype: float64\n"
                    ]
                }
            ],
            "source": [
                "# === SOLUTION for Task B2 ===\n",
                "# 1) Monthly average Sales\n",
                "# df_timeseries['Month'] = df_timeseries.index.to_period('M')\n",
                "# monthly_avg_sales = df_timeseries.groupby('Month')['Sales'].mean()\n",
                "df_timeseries[\"Date\"] = pd.to_datetime(df_timeseries[\"Date\"])\n",
                "df_timeseries.set_index(\"Date\", inplace=True)\n",
                "monthly_avg_sales = df_timeseries.resample(\"ME\")['Sales'].mean()\n",
                "df_timeseries.reset_index(inplace=True)\n",
                "print(monthly_avg_sales)"
            ]
        },
        {
            "cell_type": "code",
            "execution_count": 14,
            "metadata": {
                "tags": []
            },
            "outputs": [
                {
                    "name": "stdout",
                    "output_type": "stream",
                    "text": [
                        "                 Sales  rolling-7-day-avg\n",
                        "Date                                     \n",
                        "2020-01-01  184.146924                NaN\n",
                        "2020-01-02  273.414915                NaN\n",
                        "2020-01-03  118.764805                NaN\n",
                        "2020-01-04  136.356354                NaN\n",
                        "2020-01-05  266.023902                NaN\n",
                        "...                ...                ...\n",
                        "2020-12-27  173.590761         160.420850\n",
                        "2020-12-28  158.794469         163.213619\n",
                        "2020-12-29  221.235904         159.045189\n",
                        "2020-12-30  289.139548         175.935165\n",
                        "2020-12-31  223.077383         190.476518\n",
                        "\n",
                        "[366 rows x 2 columns]\n"
                    ]
                }
            ],
            "source": [
                "# 2) 7-day rolling average\n",
                "df_timeseries['rolling-7-day-avg'] = df_timeseries['Sales'].rolling(window=7).mean()\n",
                "print(df_timeseries)"
            ]
        },
        {
            "cell_type": "markdown",
            "metadata": {},
            "source": [
                "### 🔬 **Task B3: Day-of-Week Seasonality Analysis (Using Pandas Only)**\n",
                "\n",
                "1. **Extract the day of the week** from the index and store it in a new column (e.g., `DayOfWeek`).\n",
                "2. **Group by** this `DayOfWeek` column to get the **average Sales** for each day of the week.\n",
                "3. **Compare** these daily averages to see if certain days have higher or lower sales.\n"
            ]
        },
        {
            "cell_type": "code",
            "execution_count": 83,
            "metadata": {
                "tags": []
            },
            "outputs": [
                {
                    "name": "stdout",
                    "output_type": "stream",
                    "text": [
                        "DayOfWeek\n",
                        "Friday       199.116197\n",
                        "Monday       204.653854\n",
                        "Saturday     189.369580\n",
                        "Sunday       189.386770\n",
                        "Thursday     210.533559\n",
                        "Tuesday      196.933595\n",
                        "Wednesday    211.916607\n",
                        "Name: Sales, dtype: float64\n"
                    ]
                }
            ],
            "source": [
                "# === SOLUTION for Task B3 with Pandas Only ===\n",
                "\n",
                "# 1) Extract day of the week: Monday=0, Sunday=6\n",
                "df_timeseries['DayOfWeek'] = df_timeseries['Date'].dt.day_name()\n",
                "# 2) Group by the day of the week to compute average sales\n",
                "day_of_week_avg = df_timeseries.groupby('DayOfWeek')['Sales'].mean()\n",
                "print(day_of_week_avg)"
            ]
        },
        {
            "cell_type": "markdown",
            "metadata": {},
            "source": [
                "### 📝 **Observations & Insights**\n",
                "1. **Regional Data**\n",
                "   - The correlation between `Sales` and `Transactions` is quite low, suggesting they’re not strongly related in this sample.\n",
                "   - Pivot tables show which region averages the highest Sales, with minimal outliers in `Sales`.\n",
                "\n",
                "2. **Time-Series Data**\n",
                "   - The monthly averages reveal slight fluctuations each month.\n",
                "   - The 7-day rolling average smooths out daily noise.\n",
                "   - Seasonal decomposition indicates a clear weekly seasonal pattern (due to the `np.sin()` component) and an overall trend.\n",
                "\n",
                "---\n",
                "## 🏁 **Assignment Wrap-Up**\n",
                "\n",
                "🎉 **Congratulations!** You’ve:\n",
                "- Built pivot tables and looked for regional trends.\n",
                "- Analyzed correlation and outliers.\n",
                "- Explored monthly averages in time-series data.\n",
                "- Investigated rolling averages and seasonal decomposition.\n",
                "\n",
                "These techniques will provide a solid foundation for more advanced analytical work, including forecasting, anomaly detection, and deeper business intelligence. Keep exploring!\n"
            ]
        }
    ],
    "metadata": {
        "kernelspec": {
            "display_name": "Python 3",
            "language": "python",
            "name": "python3"
        },
        "language_info": {
            "codemirror_mode": {
                "name": "ipython",
                "version": 3
            },
            "file_extension": ".py",
            "mimetype": "text/x-python",
            "name": "python",
            "nbconvert_exporter": "python",
            "pygments_lexer": "ipython3",
            "version": "3.12.6"
        }
    },
    "nbformat": 4,
    "nbformat_minor": 2
}
